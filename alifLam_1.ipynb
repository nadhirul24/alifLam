{
  "nbformat": 4,
  "nbformat_minor": 0,
  "metadata": {
    "colab": {
      "provenance": [],
      "gpuType": "T4"
    },
    "kernelspec": {
      "name": "python3",
      "display_name": "Python 3"
    },
    "language_info": {
      "name": "python"
    },
    "accelerator": "GPU"
  },
  "cells": [
    {
      "cell_type": "markdown",
      "source": [
        "#alifLam\n",
        "\n",
        "\n",
        "*   Try - 1:\n",
        "*   ....\n",
        "\n"
      ],
      "metadata": {
        "id": "xuTDGCNJhbqs"
      }
    },
    {
      "cell_type": "markdown",
      "source": [
        "###prepare the colab directory"
      ],
      "metadata": {
        "id": "FXbPRB1G1gqz"
      }
    },
    {
      "cell_type": "code",
      "source": [
        "import shutil, os\n",
        "\n",
        "folder_to_remove = '/content/sample_data'\n",
        "\n",
        "try:\n",
        "  shutil.rmtree(folder_to_remove)\n",
        "  print(f'folder {folder_to_remove} and its contents has been deleted')\n",
        "except FileNotFoundError:\n",
        "  print(f'folder {folder_to_remove}, is not exist')\n",
        "except PermissionError:\n",
        "  print(f'permission denied to delete {folder_to_remove}')\n",
        "except Exception as e:\n",
        "  print(f'an error has occured {e}')"
      ],
      "metadata": {
        "colab": {
          "base_uri": "https://localhost:8080/"
        },
        "id": "vW6VLdOH1vA9",
        "outputId": "32428454-4bde-4c0e-cac1-29d416adbf05"
      },
      "execution_count": 1,
      "outputs": [
        {
          "output_type": "stream",
          "name": "stdout",
          "text": [
            "folder /content/sample_data, is not exist\n"
          ]
        }
      ]
    },
    {
      "cell_type": "markdown",
      "source": [
        "### Library"
      ],
      "metadata": {
        "id": "581Xe60kh5cr"
      }
    },
    {
      "cell_type": "code",
      "execution_count": 2,
      "metadata": {
        "id": "q60mfv53g73-"
      },
      "outputs": [],
      "source": [
        "#import library\n",
        "import tensorflow as tf\n",
        "import numpy as np\n",
        "import pandas as pd\n",
        "import cv2\n",
        "from matplotlib import pyplot as plt\n",
        "from tensorflow.keras.utils import to_categorical\n",
        "import zipfile, os\n",
        "import gdown"
      ]
    },
    {
      "cell_type": "code",
      "source": [
        "#download the data\n",
        "# https://drive.google.com/file/d/1dHnOh6MwY1LBQsZx9GK7rO88GhNnfTeK/view?usp=sharing\n",
        "file_id = '1dHnOh6MwY1LBQsZx9GK7rO88GhNnfTeK'\n",
        "url = f'https://drive.google.com/uc?id={file_id}'\n",
        "\n",
        "#download the file\n",
        "gdown.download(url, 'dataset.zip', quiet=False)"
      ],
      "metadata": {
        "colab": {
          "base_uri": "https://localhost:8080/",
          "height": 145
        },
        "id": "DC64JP8wiUTx",
        "outputId": "b4da9014-968c-4b5f-e512-50373b9302f3"
      },
      "execution_count": 3,
      "outputs": [
        {
          "output_type": "stream",
          "name": "stderr",
          "text": [
            "Downloading...\n",
            "From (original): https://drive.google.com/uc?id=1dHnOh6MwY1LBQsZx9GK7rO88GhNnfTeK\n",
            "From (redirected): https://drive.google.com/uc?id=1dHnOh6MwY1LBQsZx9GK7rO88GhNnfTeK&confirm=t&uuid=79bec904-c2b0-4d7c-8990-f2a5f4796389\n",
            "To: /content/dataset.zip\n",
            "100%|██████████| 23.5M/23.5M [00:00<00:00, 77.8MB/s]\n"
          ]
        },
        {
          "output_type": "execute_result",
          "data": {
            "text/plain": [
              "'dataset.zip'"
            ],
            "application/vnd.google.colaboratory.intrinsic+json": {
              "type": "string"
            }
          },
          "metadata": {},
          "execution_count": 3
        }
      ]
    },
    {
      "cell_type": "code",
      "source": [
        "#extract the data\n",
        "zip_target = '/content/dataset.zip'\n",
        "\n",
        "extracting = zipfile.ZipFile(zip_target, 'r')\n",
        "extracting.extractall()\n",
        "extracting.close()"
      ],
      "metadata": {
        "id": "tcfyx_PPi3_D"
      },
      "execution_count": 4,
      "outputs": []
    },
    {
      "cell_type": "code",
      "source": [
        "#remove the __MACOSX\n",
        "\n",
        "folder_to_remove = '/content/__MACOSX'\n",
        "\n",
        "try:\n",
        "  shutil.rmtree(folder_to_remove)\n",
        "  print(f'folder {folder_to_remove} and its contents has been deleted')\n",
        "except FileNotFoundError:\n",
        "  print(f'folder {folder_to_remove}, is not exist')\n",
        "except PermissionError:\n",
        "  print(f'permission denied to delete {folder_to_remove}')\n",
        "except Exception as e:\n",
        "  print(f'an error has occured {e}')"
      ],
      "metadata": {
        "colab": {
          "base_uri": "https://localhost:8080/"
        },
        "id": "KDLurFz73RFy",
        "outputId": "256c6fa7-e60f-4f73-e0fc-daed35cd7f2f"
      },
      "execution_count": 5,
      "outputs": [
        {
          "output_type": "stream",
          "name": "stdout",
          "text": [
            "folder /content/__MACOSX and its contents has been deleted\n"
          ]
        }
      ]
    },
    {
      "cell_type": "code",
      "source": [
        "os.listdir('/content/dataset')"
      ],
      "metadata": {
        "colab": {
          "base_uri": "https://localhost:8080/"
        },
        "id": "95v4Uu4Ks_2a",
        "outputId": "71dfe8bd-f7f1-4b9b-9769-b01123e70636"
      },
      "execution_count": 6,
      "outputs": [
        {
          "output_type": "execute_result",
          "data": {
            "text/plain": [
              "['Train+Test Images Matlab.mat',\n",
              " 'Test Images 3360x32x32',\n",
              " 'Train Images 13440x32x32',\n",
              " 'csvTestImages 3360x1024.csv',\n",
              " 'csvTrainLabel 13440x1.csv',\n",
              " 'csvTestLabel 3360x1.csv',\n",
              " 'Arabic Handwritten Characters Dataset CSV',\n",
              " 'csvTrainImages 13440x1024.csv']"
            ]
          },
          "metadata": {},
          "execution_count": 6
        }
      ]
    },
    {
      "cell_type": "code",
      "source": [
        "# csvTrainImages 13440x1024.csv\n",
        "#read data\n",
        "path = '/content/dataset'\n",
        "\n",
        "train_data_x = pd.read_csv(path + '/csvTrainImages 13440x1024.csv', header=None)\n",
        "train_data_y = pd.read_csv(path + '/csvTrainLabel 13440x1.csv', header=None)\n",
        "test_data_x = pd.read_csv(path + '/csvTestImages 3360x1024.csv', header=None)\n",
        "test_data_y = pd.read_csv(path + '/csvTestLabel 3360x1.csv', header=None)"
      ],
      "metadata": {
        "id": "WEIjazThsMLk"
      },
      "execution_count": 7,
      "outputs": []
    },
    {
      "cell_type": "code",
      "source": [
        "#examine data\n",
        "#23 classes -> 28 huruf Hijaiyah tanpa hamzah\n",
        "print('We have  %d training images each contains %d pixels.' %(train_data_x.shape[0], train_data_x.shape[1]))\n",
        "print('We have  %d training labels each contains %d classes.' %(train_data_y.shape[0], len(train_data_y.value_counts())))\n",
        "print('We have  %d testing images each contains %d pixels.' %(test_data_x.shape[0], test_data_x.shape[1]))\n",
        "print('We have  %d testing labels each contains %d classes.' %(test_data_y.shape[0], len(test_data_y.value_counts())))"
      ],
      "metadata": {
        "colab": {
          "base_uri": "https://localhost:8080/"
        },
        "id": "o1vf2cmYul7Z",
        "outputId": "c002a238-b761-4709-b1c0-3237edac8023"
      },
      "execution_count": 8,
      "outputs": [
        {
          "output_type": "stream",
          "name": "stdout",
          "text": [
            "We have  13440 training images each contains 1024 pixels.\n",
            "We have  13440 training labels each contains 28 classes.\n",
            "We have  3360 testing images each contains 1024 pixels.\n",
            "We have  3360 testing labels each contains 28 classes.\n"
          ]
        }
      ]
    },
    {
      "cell_type": "code",
      "source": [
        "#check total label per character\n",
        "train_data_y.value_counts()"
      ],
      "metadata": {
        "colab": {
          "base_uri": "https://localhost:8080/"
        },
        "id": "KNyd9ujcvA4A",
        "outputId": "43f4500e-c5cf-4dbc-e4c0-9afd7506fe12"
      },
      "execution_count": 9,
      "outputs": [
        {
          "output_type": "execute_result",
          "data": {
            "text/plain": [
              "1     480\n",
              "2     480\n",
              "3     480\n",
              "4     480\n",
              "5     480\n",
              "6     480\n",
              "7     480\n",
              "8     480\n",
              "9     480\n",
              "10    480\n",
              "11    480\n",
              "12    480\n",
              "13    480\n",
              "14    480\n",
              "15    480\n",
              "16    480\n",
              "17    480\n",
              "18    480\n",
              "19    480\n",
              "20    480\n",
              "21    480\n",
              "22    480\n",
              "23    480\n",
              "24    480\n",
              "25    480\n",
              "26    480\n",
              "27    480\n",
              "28    480\n",
              "Name: count, dtype: int64"
            ]
          },
          "metadata": {},
          "execution_count": 9
        }
      ]
    },
    {
      "cell_type": "code",
      "source": [
        "arabic_chars = {1: 'alif',\n",
        "                2: 'ba',\n",
        "                3: 'ta',\n",
        "                4: 'tsa',\n",
        "                5: 'jim',\n",
        "                6: 'hâ',\n",
        "                7: 'khâ',\n",
        "                8: 'dal',\n",
        "                9: 'dzal',\n",
        "                10: 'ra',\n",
        "                11: 'zai',\n",
        "                12: 'sîn',\n",
        "                13: 'syîn',\n",
        "                14: 'shâd',\n",
        "                15: 'dhâd',\n",
        "                16: 'thâ',\n",
        "                17: 'zhâ',\n",
        "                18: 'âin',\n",
        "                19: 'ghain',\n",
        "                20: 'fa',\n",
        "                21: 'qâf',\n",
        "                22: 'kâf',\n",
        "                23: 'lam',\n",
        "                24: 'mîm',\n",
        "                25: 'nun',\n",
        "                26: 'Ha',\n",
        "                27: 'waw',\n",
        "                28: 'yâ'\n",
        "               }"
      ],
      "metadata": {
        "id": "UyStxa2xFCoL"
      },
      "execution_count": 10,
      "outputs": []
    },
    {
      "cell_type": "code",
      "source": [
        "#visualization\n",
        "fig = plt.figure(figsize=(8, 8))\n",
        "columns = 4\n",
        "rows = 5\n",
        "for i in range(1, columns*rows + 1):\n",
        "  img = test_data_x.iloc[i].to_numpy().reshape((32, 32))\n",
        "  fig.add_subplot(rows, columns, i)\n",
        "  plt.imshow(img, cmap='gray')\n",
        "\n",
        "plt.show()"
      ],
      "metadata": {
        "colab": {
          "base_uri": "https://localhost:8080/",
          "height": 680
        },
        "id": "bEWBckX1wThU",
        "outputId": "73e58951-16b9-4224-a510-a3b1ee52587b"
      },
      "execution_count": 11,
      "outputs": [
        {
          "output_type": "display_data",
          "data": {
            "text/plain": [
              "<Figure size 800x800 with 20 Axes>"
            ],
            "image/png": "[encoded data removed]"
          },
          "metadata": {}
        }
      ]
    },
    {
      "cell_type": "code",
      "source": [
        "#preprocessing\n",
        "\n",
        "def preprocess_data(train_data_x):\n",
        "  train_data_x = train_data_x.to_numpy().reshape((train_data_x.shape[0], 32, 32)).astype('uint8')\n",
        "  for i in range(len(train_data_x)):\n",
        "    train_data_x[i] = cv2.rotate(train_data_x[i], cv2.ROTATE_90_CLOCKWISE)\n",
        "    train_data_x[i] = np.flip(train_data_x[i], 1)\n",
        "  train_data_x = train_data_x.reshape([-1, 32, 32, 1]).astype('uint8')\n",
        "  train_data_x = train_data_x.astype('float32')/255\n",
        "\n",
        "  return np.asanyarray(train_data_x)"
      ],
      "metadata": {
        "id": "5VnE96puwl83"
      },
      "execution_count": 12,
      "outputs": []
    },
    {
      "cell_type": "code",
      "source": [
        "train_x = preprocess_data(train_data_x)\n",
        "\n",
        "test_x = preprocess_data(test_data_x)"
      ],
      "metadata": {
        "id": "qROVQ04yy3t9"
      },
      "execution_count": 13,
      "outputs": []
    },
    {
      "cell_type": "code",
      "source": [
        "#process the label\n",
        "train_y = to_categorical(train_data_y.values.astype('int32') - 1,\n",
        "                         num_classes=28)\n",
        "\n",
        "test_y = to_categorical(test_data_y.values.astype('int32') - 1,\n",
        "                        num_classes=28)"
      ],
      "metadata": {
        "id": "NaBDU7VTyBYM"
      },
      "execution_count": 14,
      "outputs": []
    },
    {
      "cell_type": "code",
      "source": [
        "#shuffle our train and test data\n",
        "\n",
        "%%capture\n",
        "from sklearn.utils import shuffle\n",
        "\n",
        "train_x, train_y = shuffle(train_x, train_y)\n",
        "test_x, test_y = shuffle(test_x, test_y)"
      ],
      "metadata": {
        "id": "VtDMZBLJyegE"
      },
      "execution_count": 15,
      "outputs": []
    },
    {
      "cell_type": "code",
      "source": [
        "#build the model\n",
        "from tensorflow.keras.models import Sequential\n",
        "from tensorflow.keras.layers import Conv2D, MaxPooling2D, GlobalAveragePooling2D, BatchNormalization, Dropout, Dense, Flatten\n",
        "\n",
        "def create_model(activation='relu', optimizer='adam', kernel_initializer='he_normal'):\n",
        "\n",
        "  model = Sequential()\n",
        "\n",
        "  model.add(Conv2D(32, (3,3), padding='same', input_shape=(32,32,1), activation=activation, kernel_initializer=kernel_initializer))\n",
        "  model.add(MaxPooling2D(2,2))\n",
        "  model.add(BatchNormalization())\n",
        "\n",
        "  model.add(Conv2D(64, (3,3), padding='same', activation= activation, kernel_initializer=kernel_initializer))\n",
        "  model.add(MaxPooling2D(2,2))\n",
        "  model.add(Dropout(0.2))\n",
        "  model.add(BatchNormalization())\n",
        "\n",
        "  model.add(Conv2D(128, (3,3), padding='same', activation= activation, kernel_initializer=kernel_initializer))\n",
        "  model.add(MaxPooling2D(2,2))\n",
        "  model.add(Dropout(0.2))\n",
        "  model.add(BatchNormalization())\n",
        "\n",
        "  model.add(Flatten())\n",
        "\n",
        "  model.add(Dense(32, activation= activation, kernel_initializer=kernel_initializer, kernel_regularizer='l2'))\n",
        "  model.add(BatchNormalization())\n",
        "  model.add(Dropout(0.2))\n",
        "\n",
        "  model.add(Dense(28, activation='softmax'))\n",
        "\n",
        "  model.compile(optimizer=optimizer,\n",
        "                loss='categorical_crossentropy',\n",
        "                metrics=['accuracy'])\n",
        "  return model\n",
        "\n"
      ],
      "metadata": {
        "id": "qTeZ5fFw0CvQ"
      },
      "execution_count": 16,
      "outputs": []
    },
    {
      "cell_type": "code",
      "source": [
        "model = create_model()\n",
        "\n",
        "model.summary()"
      ],
      "metadata": {
        "colab": {
          "base_uri": "https://localhost:8080/"
        },
        "id": "1eTGzKX013Aq",
        "outputId": "c3cd84a6-20f6-47e3-a518-8240bd4a76b4"
      },
      "execution_count": 17,
      "outputs": [
        {
          "output_type": "stream",
          "name": "stdout",
          "text": [
            "Model: \"sequential\"\n",
            "_________________________________________________________________\n",
            " Layer (type)                Output Shape              Param #   \n",
            "=================================================================\n",
            " conv2d (Conv2D)             (None, 32, 32, 32)        320       \n",
            "                                                                 \n",
            " max_pooling2d (MaxPooling2  (None, 16, 16, 32)        0         \n",
            " D)                                                              \n",
            "                                                                 \n",
            " batch_normalization (Batch  (None, 16, 16, 32)        128       \n",
            " Normalization)                                                  \n",
            "                                                                 \n",
            " conv2d_1 (Conv2D)           (None, 16, 16, 64)        18496     \n",
            "                                                                 \n",
            " max_pooling2d_1 (MaxPoolin  (None, 8, 8, 64)          0         \n",
            " g2D)                                                            \n",
            "                                                                 \n",
            " dropout (Dropout)           (None, 8, 8, 64)          0         \n",
            "                                                                 \n",
            " batch_normalization_1 (Bat  (None, 8, 8, 64)          256       \n",
            " chNormalization)                                                \n",
            "                                                                 \n",
            " conv2d_2 (Conv2D)           (None, 8, 8, 128)         73856     \n",
            "                                                                 \n",
            " max_pooling2d_2 (MaxPoolin  (None, 4, 4, 128)         0         \n",
            " g2D)                                                            \n",
            "                                                                 \n",
            " dropout_1 (Dropout)         (None, 4, 4, 128)         0         \n",
            "                                                                 \n",
            " batch_normalization_2 (Bat  (None, 4, 4, 128)         512       \n",
            " chNormalization)                                                \n",
            "                                                                 \n",
            " flatten (Flatten)           (None, 2048)              0         \n",
            "                                                                 \n",
            " dense (Dense)               (None, 32)                65568     \n",
            "                                                                 \n",
            " batch_normalization_3 (Bat  (None, 32)                128       \n",
            " chNormalization)                                                \n",
            "                                                                 \n",
            " dropout_2 (Dropout)         (None, 32)                0         \n",
            "                                                                 \n",
            " dense_1 (Dense)             (None, 28)                924       \n",
            "                                                                 \n",
            "=================================================================\n",
            "Total params: 160188 (625.73 KB)\n",
            "Trainable params: 159676 (623.73 KB)\n",
            "Non-trainable params: 512 (2.00 KB)\n",
            "_________________________________________________________________\n"
          ]
        }
      ]
    },
    {
      "cell_type": "code",
      "source": [
        "#tunning\n",
        "seed = 7                                                                        # Select a fixed seed\n",
        "np.random.seed(seed)                                                            # Specifing the seed for our random generator\n",
        "\n",
        "optimizer = ['RMSprop', 'Adam', 'Adagrad', 'Nadam']                             # Available optimizers\n",
        "kernel_initializer = ['normal', 'uniform']                                      # Available initializing methods\n",
        "activation = ['relu', 'linear', 'tanh']                                         # Available activation functions\n",
        "\n",
        "param_grid = dict(optimizer=optimizer,                                          # Creating the grid\n",
        "                  kernel_initializer=kernel_initializer,\n",
        "                  activation=activation)\n",
        "\n",
        "parameters_number = 1\n",
        "for x in param_grid:\n",
        "  parameters_number = parameters_number * len(param_grid[x])\n",
        "print(\"Number of different parameter combinations = {}\".format(parameters_number))"
      ],
      "metadata": {
        "colab": {
          "base_uri": "https://localhost:8080/"
        },
        "id": "o9Vzi49F2VIm",
        "outputId": "ee1bd720-94a3-4152-bc93-a5d800772567"
      },
      "execution_count": 18,
      "outputs": [
        {
          "output_type": "stream",
          "name": "stdout",
          "text": [
            "Number of different parameter combinations = 24\n"
          ]
        }
      ]
    },
    {
      "cell_type": "markdown",
      "source": [
        "we gonna try to catch 24 combinations of parameters 🤡"
      ],
      "metadata": {
        "id": "tFwZUghN6Sv4"
      }
    },
    {
      "cell_type": "code",
      "source": [
        "epochs = 5                                                                      # Specifing the number of epochs for each combination\n",
        "batch_size = 64                                                                 # Setting the batch size\n",
        "\n",
        "# Here we will create our different models and run them for 5 epochs each.\n",
        "for a,b,c in [(x,y,z) for x in optimizer for z in activation for y in kernel_initializer]:\n",
        "    params = {'optimizer' : a , 'kernel_initializer' : b , 'activation' : c}\n",
        "    print(params)\n",
        "    curr_model = create_model(optimizer=a, kernel_initializer=b, activation=c)\n",
        "    curr_model.fit(train_x, train_y,\n",
        "                    validation_split=0.3,\n",
        "                    epochs=epochs, batch_size=batch_size, verbose=1)\n",
        "    print(\"=============================================================================\")"
      ],
      "metadata": {
        "colab": {
          "base_uri": "https://localhost:8080/"
        },
        "id": "3kqGDqhj2ZA9",
        "outputId": "9ba3aaa2-10b6-4e2d-ad53-0e3d2ffca27d"
      },
      "execution_count": 19,
      "outputs": [
        {
          "output_type": "stream",
          "name": "stdout",
          "text": [
            "{'optimizer': 'RMSprop', 'kernel_initializer': 'normal', 'activation': 'relu'}\n",
            "Epoch 1/5\n",
            "147/147 [==============================] - 8s 10ms/step - loss: 3.4629 - accuracy: 0.3481 - val_loss: 5.6199 - val_accuracy: 0.0352\n",
            "Epoch 2/5\n",
            "147/147 [==============================] - 1s 7ms/step - loss: 1.6432 - accuracy: 0.7049 - val_loss: 5.5256 - val_accuracy: 0.0352\n",
            "Epoch 3/5\n",
            "147/147 [==============================] - 1s 7ms/step - loss: 0.9166 - accuracy: 0.8411 - val_loss: 4.1568 - val_accuracy: 0.0702\n",
            "Epoch 4/5\n",
            "147/147 [==============================] - 1s 6ms/step - loss: 0.6133 - accuracy: 0.8900 - val_loss: 2.0400 - val_accuracy: 0.3934\n",
            "Epoch 5/5\n",
            "147/147 [==============================] - 1s 7ms/step - loss: 0.4748 - accuracy: 0.9090 - val_loss: 0.5140 - val_accuracy: 0.9033\n",
            "=============================================================================\n",
            "{'optimizer': 'RMSprop', 'kernel_initializer': 'uniform', 'activation': 'relu'}\n",
            "Epoch 1/5\n",
            "147/147 [==============================] - 3s 12ms/step - loss: 2.5783 - accuracy: 0.4126 - val_loss: 4.8739 - val_accuracy: 0.0424\n",
            "Epoch 2/5\n",
            "147/147 [==============================] - 1s 10ms/step - loss: 1.2225 - accuracy: 0.7691 - val_loss: 5.5530 - val_accuracy: 0.0352\n",
            "Epoch 3/5\n",
            "147/147 [==============================] - 1s 8ms/step - loss: 0.7119 - accuracy: 0.8749 - val_loss: 4.3684 - val_accuracy: 0.0352\n",
            "Epoch 4/5\n",
            "147/147 [==============================] - 1s 7ms/step - loss: 0.5076 - accuracy: 0.9084 - val_loss: 1.8683 - val_accuracy: 0.4519\n",
            "Epoch 5/5\n",
            "147/147 [==============================] - 1s 7ms/step - loss: 0.4056 - accuracy: 0.9234 - val_loss: 0.6421 - val_accuracy: 0.8554\n",
            "=============================================================================\n",
            "{'optimizer': 'RMSprop', 'kernel_initializer': 'normal', 'activation': 'linear'}\n",
            "Epoch 1/5\n",
            "147/147 [==============================] - 3s 8ms/step - loss: 3.1719 - accuracy: 0.4074 - val_loss: 5.7773 - val_accuracy: 0.0352\n",
            "Epoch 2/5\n",
            "147/147 [==============================] - 1s 7ms/step - loss: 1.6433 - accuracy: 0.6836 - val_loss: 5.8590 - val_accuracy: 0.0352\n",
            "Epoch 3/5\n",
            "147/147 [==============================] - 1s 7ms/step - loss: 1.0397 - accuracy: 0.7972 - val_loss: 4.4361 - val_accuracy: 0.1037\n",
            "Epoch 4/5\n",
            "147/147 [==============================] - 1s 6ms/step - loss: 0.7734 - accuracy: 0.8413 - val_loss: 1.9516 - val_accuracy: 0.4318\n",
            "Epoch 5/5\n",
            "147/147 [==============================] - 1s 7ms/step - loss: 0.6135 - accuracy: 0.8740 - val_loss: 0.6323 - val_accuracy: 0.8750\n",
            "=============================================================================\n",
            "{'optimizer': 'RMSprop', 'kernel_initializer': 'uniform', 'activation': 'linear'}\n",
            "Epoch 1/5\n",
            "147/147 [==============================] - 4s 11ms/step - loss: 2.3033 - accuracy: 0.4725 - val_loss: 4.3050 - val_accuracy: 0.0352\n",
            "Epoch 2/5\n",
            "147/147 [==============================] - 1s 7ms/step - loss: 1.2390 - accuracy: 0.7445 - val_loss: 4.2074 - val_accuracy: 0.0355\n",
            "Epoch 3/5\n",
            "147/147 [==============================] - 1s 7ms/step - loss: 0.8376 - accuracy: 0.8316 - val_loss: 3.4643 - val_accuracy: 0.0766\n",
            "Epoch 4/5\n",
            "147/147 [==============================] - 1s 7ms/step - loss: 0.6385 - accuracy: 0.8713 - val_loss: 1.0479 - val_accuracy: 0.7879\n",
            "Epoch 5/5\n",
            "147/147 [==============================] - 1s 7ms/step - loss: 0.5218 - accuracy: 0.8913 - val_loss: 0.6165 - val_accuracy: 0.8584\n",
            "=============================================================================\n",
            "{'optimizer': 'RMSprop', 'kernel_initializer': 'normal', 'activation': 'tanh'}\n",
            "Epoch 1/5\n",
            "147/147 [==============================] - 4s 12ms/step - loss: 4.0625 - accuracy: 0.2113 - val_loss: 4.2729 - val_accuracy: 0.0536\n",
            "Epoch 2/5\n",
            "147/147 [==============================] - 1s 7ms/step - loss: 2.6330 - accuracy: 0.4481 - val_loss: 5.7331 - val_accuracy: 0.0355\n",
            "Epoch 3/5\n",
            "147/147 [==============================] - 1s 7ms/step - loss: 1.7275 - accuracy: 0.6386 - val_loss: 5.0732 - val_accuracy: 0.0531\n",
            "Epoch 4/5\n",
            "147/147 [==============================] - 1s 7ms/step - loss: 1.1988 - accuracy: 0.7512 - val_loss: 4.6633 - val_accuracy: 0.0908\n",
            "Epoch 5/5\n",
            "147/147 [==============================] - 1s 7ms/step - loss: 0.9290 - accuracy: 0.7982 - val_loss: 3.3007 - val_accuracy: 0.2381\n",
            "=============================================================================\n",
            "{'optimizer': 'RMSprop', 'kernel_initializer': 'uniform', 'activation': 'tanh'}\n",
            "Epoch 1/5\n",
            "147/147 [==============================] - 3s 9ms/step - loss: 2.6601 - accuracy: 0.3720 - val_loss: 4.8750 - val_accuracy: 0.0355\n",
            "Epoch 2/5\n",
            "147/147 [==============================] - 1s 7ms/step - loss: 1.4969 - accuracy: 0.6760 - val_loss: 6.7568 - val_accuracy: 0.0355\n",
            "Epoch 3/5\n",
            "147/147 [==============================] - 1s 7ms/step - loss: 1.0202 - accuracy: 0.7868 - val_loss: 6.0589 - val_accuracy: 0.0360\n",
            "Epoch 4/5\n",
            "147/147 [==============================] - 1s 9ms/step - loss: 0.7732 - accuracy: 0.8377 - val_loss: 3.8411 - val_accuracy: 0.1505\n",
            "Epoch 5/5\n",
            "147/147 [==============================] - 1s 10ms/step - loss: 0.6500 - accuracy: 0.8659 - val_loss: 4.7916 - val_accuracy: 0.1458\n",
            "=============================================================================\n",
            "{'optimizer': 'Adam', 'kernel_initializer': 'normal', 'activation': 'relu'}\n",
            "Epoch 1/5\n",
            "147/147 [==============================] - 5s 10ms/step - loss: 3.7660 - accuracy: 0.2920 - val_loss: 5.9403 - val_accuracy: 0.0352\n",
            "Epoch 2/5\n",
            "147/147 [==============================] - 1s 7ms/step - loss: 1.9619 - accuracy: 0.6442 - val_loss: 5.7371 - val_accuracy: 0.0352\n",
            "Epoch 3/5\n",
            "147/147 [==============================] - 1s 7ms/step - loss: 1.1306 - accuracy: 0.8033 - val_loss: 4.9602 - val_accuracy: 0.1054\n",
            "Epoch 4/5\n",
            "147/147 [==============================] - 1s 7ms/step - loss: 0.7593 - accuracy: 0.8688 - val_loss: 2.1212 - val_accuracy: 0.4080\n",
            "Epoch 5/5\n",
            "147/147 [==============================] - 1s 7ms/step - loss: 0.5925 - accuracy: 0.8886 - val_loss: 0.7871 - val_accuracy: 0.8418\n",
            "=============================================================================\n",
            "{'optimizer': 'Adam', 'kernel_initializer': 'uniform', 'activation': 'relu'}\n",
            "Epoch 1/5\n",
            "147/147 [==============================] - 5s 13ms/step - loss: 2.7256 - accuracy: 0.3694 - val_loss: 5.0983 - val_accuracy: 0.0342\n",
            "Epoch 2/5\n",
            "147/147 [==============================] - 1s 7ms/step - loss: 1.4042 - accuracy: 0.7281 - val_loss: 5.4821 - val_accuracy: 0.0352\n",
            "Epoch 3/5\n",
            "147/147 [==============================] - 1s 7ms/step - loss: 0.8595 - accuracy: 0.8473 - val_loss: 4.9612 - val_accuracy: 0.0352\n",
            "Epoch 4/5\n",
            "147/147 [==============================] - 1s 7ms/step - loss: 0.6169 - accuracy: 0.8854 - val_loss: 2.3684 - val_accuracy: 0.2961\n",
            "Epoch 5/5\n",
            "147/147 [==============================] - 1s 7ms/step - loss: 0.4997 - accuracy: 0.9075 - val_loss: 0.6130 - val_accuracy: 0.8847\n",
            "=============================================================================\n",
            "{'optimizer': 'Adam', 'kernel_initializer': 'normal', 'activation': 'linear'}\n",
            "Epoch 1/5\n",
            "147/147 [==============================] - 6s 14ms/step - loss: 3.3580 - accuracy: 0.3679 - val_loss: 6.0247 - val_accuracy: 0.0352\n",
            "Epoch 2/5\n",
            "147/147 [==============================] - 1s 9ms/step - loss: 1.7261 - accuracy: 0.6691 - val_loss: 5.3411 - val_accuracy: 0.0352\n",
            "Epoch 3/5\n",
            "147/147 [==============================] - 1s 7ms/step - loss: 1.1039 - accuracy: 0.7785 - val_loss: 4.4965 - val_accuracy: 0.0888\n",
            "Epoch 4/5\n",
            "147/147 [==============================] - 1s 7ms/step - loss: 0.8069 - accuracy: 0.8363 - val_loss: 3.8385 - val_accuracy: 0.1310\n",
            "Epoch 5/5\n",
            "147/147 [==============================] - 1s 7ms/step - loss: 0.6538 - accuracy: 0.8648 - val_loss: 0.9559 - val_accuracy: 0.7423\n",
            "=============================================================================\n",
            "{'optimizer': 'Adam', 'kernel_initializer': 'uniform', 'activation': 'linear'}\n",
            "Epoch 1/5\n",
            "147/147 [==============================] - 4s 9ms/step - loss: 2.5201 - accuracy: 0.4266 - val_loss: 4.4170 - val_accuracy: 0.0352\n",
            "Epoch 2/5\n",
            "147/147 [==============================] - 1s 10ms/step - loss: 1.3692 - accuracy: 0.7119 - val_loss: 4.3344 - val_accuracy: 0.0484\n",
            "Epoch 3/5\n",
            "147/147 [==============================] - 1s 10ms/step - loss: 0.9094 - accuracy: 0.8189 - val_loss: 3.2196 - val_accuracy: 0.1763\n",
            "Epoch 4/5\n",
            "147/147 [==============================] - 1s 9ms/step - loss: 0.6848 - accuracy: 0.8647 - val_loss: 2.0049 - val_accuracy: 0.4187\n",
            "Epoch 5/5\n",
            "147/147 [==============================] - 1s 7ms/step - loss: 0.5680 - accuracy: 0.8870 - val_loss: 0.9072 - val_accuracy: 0.7356\n",
            "=============================================================================\n",
            "{'optimizer': 'Adam', 'kernel_initializer': 'normal', 'activation': 'tanh'}\n",
            "Epoch 1/5\n",
            "147/147 [==============================] - 4s 9ms/step - loss: 4.0410 - accuracy: 0.2337 - val_loss: 4.8195 - val_accuracy: 0.0521\n",
            "Epoch 2/5\n",
            "147/147 [==============================] - 1s 7ms/step - loss: 2.5005 - accuracy: 0.5187 - val_loss: 4.7685 - val_accuracy: 0.0513\n",
            "Epoch 3/5\n",
            "147/147 [==============================] - 1s 7ms/step - loss: 1.6307 - accuracy: 0.6734 - val_loss: 4.5927 - val_accuracy: 0.1128\n",
            "Epoch 4/5\n",
            "147/147 [==============================] - 1s 7ms/step - loss: 1.1763 - accuracy: 0.7570 - val_loss: 4.5534 - val_accuracy: 0.1124\n",
            "Epoch 5/5\n",
            "147/147 [==============================] - 1s 7ms/step - loss: 0.9196 - accuracy: 0.8042 - val_loss: 2.5957 - val_accuracy: 0.3636\n",
            "=============================================================================\n",
            "{'optimizer': 'Adam', 'kernel_initializer': 'uniform', 'activation': 'tanh'}\n",
            "Epoch 1/5\n",
            "147/147 [==============================] - 4s 9ms/step - loss: 2.7986 - accuracy: 0.3299 - val_loss: 4.7428 - val_accuracy: 0.0518\n",
            "Epoch 2/5\n",
            "147/147 [==============================] - 1s 7ms/step - loss: 1.6278 - accuracy: 0.6407 - val_loss: 5.5985 - val_accuracy: 0.0454\n",
            "Epoch 3/5\n",
            "147/147 [==============================] - 1s 7ms/step - loss: 1.1103 - accuracy: 0.7560 - val_loss: 5.8998 - val_accuracy: 0.0290\n",
            "Epoch 4/5\n",
            "147/147 [==============================] - 1s 7ms/step - loss: 0.8531 - accuracy: 0.8178 - val_loss: 4.7188 - val_accuracy: 0.1530\n",
            "Epoch 5/5\n",
            "147/147 [==============================] - 1s 8ms/step - loss: 0.7193 - accuracy: 0.8446 - val_loss: 4.2079 - val_accuracy: 0.1734\n",
            "=============================================================================\n",
            "{'optimizer': 'Adagrad', 'kernel_initializer': 'normal', 'activation': 'relu'}\n",
            "Epoch 1/5\n",
            "147/147 [==============================] - 3s 9ms/step - loss: 5.1812 - accuracy: 0.0681 - val_loss: 5.2984 - val_accuracy: 0.0352\n",
            "Epoch 2/5\n",
            "147/147 [==============================] - 1s 7ms/step - loss: 4.7815 - accuracy: 0.1335 - val_loss: 5.5568 - val_accuracy: 0.0345\n",
            "Epoch 3/5\n",
            "147/147 [==============================] - 1s 7ms/step - loss: 4.5901 - accuracy: 0.1589 - val_loss: 5.3215 - val_accuracy: 0.0347\n",
            "Epoch 4/5\n",
            "147/147 [==============================] - 1s 7ms/step - loss: 4.3965 - accuracy: 0.1928 - val_loss: 4.6449 - val_accuracy: 0.0712\n",
            "Epoch 5/5\n",
            "147/147 [==============================] - 1s 7ms/step - loss: 4.2630 - accuracy: 0.2185 - val_loss: 4.0677 - val_accuracy: 0.2636\n",
            "=============================================================================\n",
            "{'optimizer': 'Adagrad', 'kernel_initializer': 'uniform', 'activation': 'relu'}\n",
            "Epoch 1/5\n",
            "147/147 [==============================] - 4s 11ms/step - loss: 3.8585 - accuracy: 0.1079 - val_loss: 4.3768 - val_accuracy: 0.0461\n",
            "Epoch 2/5\n",
            "147/147 [==============================] - 1s 7ms/step - loss: 3.3871 - accuracy: 0.1878 - val_loss: 5.1727 - val_accuracy: 0.0352\n",
            "Epoch 3/5\n",
            "147/147 [==============================] - 1s 7ms/step - loss: 3.1392 - accuracy: 0.2454 - val_loss: 4.9608 - val_accuracy: 0.0362\n",
            "Epoch 4/5\n",
            "147/147 [==============================] - 1s 7ms/step - loss: 2.9912 - accuracy: 0.2908 - val_loss: 3.6509 - val_accuracy: 0.1240\n",
            "Epoch 5/5\n",
            "147/147 [==============================] - 1s 7ms/step - loss: 2.8747 - accuracy: 0.3228 - val_loss: 2.7424 - val_accuracy: 0.3814\n",
            "=============================================================================\n",
            "{'optimizer': 'Adagrad', 'kernel_initializer': 'normal', 'activation': 'linear'}\n",
            "Epoch 1/5\n",
            "147/147 [==============================] - 4s 14ms/step - loss: 5.0251 - accuracy: 0.0811 - val_loss: 5.0552 - val_accuracy: 0.0347\n",
            "Epoch 2/5\n",
            "147/147 [==============================] - 1s 9ms/step - loss: 4.5461 - accuracy: 0.1497 - val_loss: 4.9744 - val_accuracy: 0.0657\n",
            "Epoch 3/5\n",
            "147/147 [==============================] - 1s 8ms/step - loss: 4.2976 - accuracy: 0.1962 - val_loss: 4.6508 - val_accuracy: 0.0751\n",
            "Epoch 4/5\n",
            "147/147 [==============================] - 1s 7ms/step - loss: 4.1543 - accuracy: 0.2309 - val_loss: 4.1800 - val_accuracy: 0.2351\n",
            "Epoch 5/5\n",
            "147/147 [==============================] - 1s 7ms/step - loss: 4.0265 - accuracy: 0.2562 - val_loss: 3.8492 - val_accuracy: 0.3566\n",
            "=============================================================================\n",
            "{'optimizer': 'Adagrad', 'kernel_initializer': 'uniform', 'activation': 'linear'}\n",
            "Epoch 1/5\n",
            "147/147 [==============================] - 3s 8ms/step - loss: 3.6934 - accuracy: 0.1353 - val_loss: 4.0764 - val_accuracy: 0.0352\n",
            "Epoch 2/5\n",
            "147/147 [==============================] - 1s 10ms/step - loss: 3.1485 - accuracy: 0.2469 - val_loss: 4.0668 - val_accuracy: 0.0352\n",
            "Epoch 3/5\n",
            "147/147 [==============================] - 1s 10ms/step - loss: 2.9222 - accuracy: 0.3116 - val_loss: 3.6882 - val_accuracy: 0.0903\n",
            "Epoch 4/5\n",
            "147/147 [==============================] - 1s 9ms/step - loss: 2.7550 - accuracy: 0.3509 - val_loss: 3.0759 - val_accuracy: 0.2681\n",
            "Epoch 5/5\n",
            "147/147 [==============================] - 1s 7ms/step - loss: 2.6398 - accuracy: 0.3913 - val_loss: 2.5815 - val_accuracy: 0.4663\n",
            "=============================================================================\n",
            "{'optimizer': 'Adagrad', 'kernel_initializer': 'normal', 'activation': 'tanh'}\n",
            "Epoch 1/5\n",
            "147/147 [==============================] - 3s 9ms/step - loss: 5.1856 - accuracy: 0.0688 - val_loss: 5.0664 - val_accuracy: 0.0439\n",
            "Epoch 2/5\n",
            "147/147 [==============================] - 1s 7ms/step - loss: 4.8497 - accuracy: 0.1125 - val_loss: 4.8559 - val_accuracy: 0.0823\n",
            "Epoch 3/5\n",
            "147/147 [==============================] - 1s 7ms/step - loss: 4.6494 - accuracy: 0.1365 - val_loss: 4.4210 - val_accuracy: 0.1811\n",
            "Epoch 4/5\n",
            "147/147 [==============================] - 1s 7ms/step - loss: 4.5148 - accuracy: 0.1600 - val_loss: 4.1540 - val_accuracy: 0.2594\n",
            "Epoch 5/5\n",
            "147/147 [==============================] - 1s 7ms/step - loss: 4.4140 - accuracy: 0.1788 - val_loss: 4.0317 - val_accuracy: 0.2845\n",
            "=============================================================================\n",
            "{'optimizer': 'Adagrad', 'kernel_initializer': 'uniform', 'activation': 'tanh'}\n",
            "Epoch 1/5\n",
            "147/147 [==============================] - 3s 9ms/step - loss: 3.8010 - accuracy: 0.1116 - val_loss: 4.1409 - val_accuracy: 0.0352\n",
            "Epoch 2/5\n",
            "147/147 [==============================] - 1s 7ms/step - loss: 3.3170 - accuracy: 0.1970 - val_loss: 4.2557 - val_accuracy: 0.0635\n",
            "Epoch 3/5\n",
            "147/147 [==============================] - 1s 8ms/step - loss: 3.1121 - accuracy: 0.2410 - val_loss: 3.5250 - val_accuracy: 0.1384\n",
            "Epoch 4/5\n",
            "147/147 [==============================] - 1s 7ms/step - loss: 2.9652 - accuracy: 0.2780 - val_loss: 2.8328 - val_accuracy: 0.2961\n",
            "Epoch 5/5\n",
            "147/147 [==============================] - 1s 7ms/step - loss: 2.8486 - accuracy: 0.3113 - val_loss: 2.5197 - val_accuracy: 0.4045\n",
            "=============================================================================\n",
            "{'optimizer': 'Nadam', 'kernel_initializer': 'normal', 'activation': 'relu'}\n",
            "Epoch 1/5\n",
            "147/147 [==============================] - 6s 12ms/step - loss: 3.7569 - accuracy: 0.2895 - val_loss: 5.4705 - val_accuracy: 0.0352\n",
            "Epoch 2/5\n",
            "147/147 [==============================] - 1s 10ms/step - loss: 1.9893 - accuracy: 0.6243 - val_loss: 4.9989 - val_accuracy: 0.0352\n",
            "Epoch 3/5\n",
            "147/147 [==============================] - 1s 9ms/step - loss: 1.1631 - accuracy: 0.7893 - val_loss: 4.4684 - val_accuracy: 0.0352\n",
            "Epoch 4/5\n",
            "147/147 [==============================] - 2s 16ms/step - loss: 0.7779 - accuracy: 0.8571 - val_loss: 2.2327 - val_accuracy: 0.3105\n",
            "Epoch 5/5\n",
            "147/147 [==============================] - 2s 12ms/step - loss: 0.5862 - accuracy: 0.8899 - val_loss: 0.9867 - val_accuracy: 0.7475\n",
            "=============================================================================\n",
            "{'optimizer': 'Nadam', 'kernel_initializer': 'uniform', 'activation': 'relu'}\n",
            "Epoch 1/5\n",
            "147/147 [==============================] - 5s 12ms/step - loss: 2.7877 - accuracy: 0.3486 - val_loss: 4.7793 - val_accuracy: 0.0352\n",
            "Epoch 2/5\n",
            "147/147 [==============================] - 1s 9ms/step - loss: 1.4552 - accuracy: 0.7007 - val_loss: 5.8879 - val_accuracy: 0.0352\n",
            "Epoch 3/5\n",
            "147/147 [==============================] - 1s 9ms/step - loss: 0.8876 - accuracy: 0.8386 - val_loss: 4.9181 - val_accuracy: 0.0352\n",
            "Epoch 4/5\n",
            "147/147 [==============================] - 1s 10ms/step - loss: 0.6120 - accuracy: 0.8946 - val_loss: 1.9720 - val_accuracy: 0.3872\n",
            "Epoch 5/5\n",
            "147/147 [==============================] - 2s 13ms/step - loss: 0.4892 - accuracy: 0.9104 - val_loss: 0.5145 - val_accuracy: 0.9067\n",
            "=============================================================================\n",
            "{'optimizer': 'Nadam', 'kernel_initializer': 'normal', 'activation': 'linear'}\n",
            "Epoch 1/5\n",
            "147/147 [==============================] - 6s 12ms/step - loss: 3.4902 - accuracy: 0.3475 - val_loss: 5.9923 - val_accuracy: 0.0352\n",
            "Epoch 2/5\n",
            "147/147 [==============================] - 2s 15ms/step - loss: 1.8537 - accuracy: 0.6337 - val_loss: 5.6105 - val_accuracy: 0.0384\n",
            "Epoch 3/5\n",
            "147/147 [==============================] - 2s 11ms/step - loss: 1.1712 - accuracy: 0.7655 - val_loss: 3.6468 - val_accuracy: 0.1220\n",
            "Epoch 4/5\n",
            "147/147 [==============================] - 1s 9ms/step - loss: 0.8513 - accuracy: 0.8211 - val_loss: 2.0053 - val_accuracy: 0.4100\n",
            "Epoch 5/5\n",
            "147/147 [==============================] - 2s 12ms/step - loss: 0.6871 - accuracy: 0.8603 - val_loss: 1.1834 - val_accuracy: 0.6803\n",
            "=============================================================================\n",
            "{'optimizer': 'Nadam', 'kernel_initializer': 'uniform', 'activation': 'linear'}\n",
            "Epoch 1/5\n",
            "147/147 [==============================] - 6s 12ms/step - loss: 2.5267 - accuracy: 0.4103 - val_loss: 5.3478 - val_accuracy: 0.0352\n",
            "Epoch 2/5\n",
            "147/147 [==============================] - 1s 10ms/step - loss: 1.3661 - accuracy: 0.7172 - val_loss: 4.8602 - val_accuracy: 0.0352\n",
            "Epoch 3/5\n",
            "147/147 [==============================] - 1s 10ms/step - loss: 0.9150 - accuracy: 0.8164 - val_loss: 3.8303 - val_accuracy: 0.0585\n",
            "Epoch 4/5\n",
            "147/147 [==============================] - 1s 9ms/step - loss: 0.6777 - accuracy: 0.8675 - val_loss: 1.4339 - val_accuracy: 0.6424\n",
            "Epoch 5/5\n",
            "147/147 [==============================] - 1s 9ms/step - loss: 0.5547 - accuracy: 0.8969 - val_loss: 1.1220 - val_accuracy: 0.6828\n",
            "=============================================================================\n",
            "{'optimizer': 'Nadam', 'kernel_initializer': 'normal', 'activation': 'tanh'}\n",
            "Epoch 1/5\n",
            "147/147 [==============================] - 5s 11ms/step - loss: 4.1083 - accuracy: 0.2251 - val_loss: 4.6581 - val_accuracy: 0.0888\n",
            "Epoch 2/5\n",
            "147/147 [==============================] - 1s 9ms/step - loss: 2.5377 - accuracy: 0.5088 - val_loss: 5.2418 - val_accuracy: 0.0627\n",
            "Epoch 3/5\n",
            "147/147 [==============================] - 2s 10ms/step - loss: 1.6715 - accuracy: 0.6597 - val_loss: 6.2524 - val_accuracy: 0.0375\n",
            "Epoch 4/5\n",
            "147/147 [==============================] - 1s 9ms/step - loss: 1.1917 - accuracy: 0.7485 - val_loss: 5.9994 - val_accuracy: 0.0392\n",
            "Epoch 5/5\n",
            "147/147 [==============================] - 2s 11ms/step - loss: 0.9263 - accuracy: 0.8025 - val_loss: 3.9540 - val_accuracy: 0.1262\n",
            "=============================================================================\n",
            "{'optimizer': 'Nadam', 'kernel_initializer': 'uniform', 'activation': 'tanh'}\n",
            "Epoch 1/5\n",
            "147/147 [==============================] - 5s 11ms/step - loss: 2.8773 - accuracy: 0.3156 - val_loss: 4.4880 - val_accuracy: 0.0496\n",
            "Epoch 2/5\n",
            "147/147 [==============================] - 1s 9ms/step - loss: 1.6486 - accuracy: 0.6298 - val_loss: 4.8047 - val_accuracy: 0.0451\n",
            "Epoch 3/5\n",
            "147/147 [==============================] - 1s 9ms/step - loss: 1.1060 - accuracy: 0.7659 - val_loss: 5.4854 - val_accuracy: 0.0645\n",
            "Epoch 4/5\n",
            "147/147 [==============================] - 1s 9ms/step - loss: 0.8306 - accuracy: 0.8259 - val_loss: 4.0591 - val_accuracy: 0.1520\n",
            "Epoch 5/5\n",
            "147/147 [==============================] - 2s 12ms/step - loss: 0.6892 - accuracy: 0.8532 - val_loss: 4.3177 - val_accuracy: 0.1014\n",
            "=============================================================================\n"
          ]
        }
      ]
    },
    {
      "cell_type": "markdown",
      "source": [
        "After looping through all the combinations it was found that the best combination is:\n",
        "\n",
        "[Adam, Uniform Initialization, Relu Activation]\n",
        "\n",
        "Then lets use them to build our final model."
      ],
      "metadata": {
        "id": "TcHdvPnUE2lG"
      }
    },
    {
      "cell_type": "code",
      "source": [
        "#using the best parameters configuration\n",
        "#[Adam, Uniform Initialization, Relu Activation ]\n",
        "model = create_model(optimizer='adam',\n",
        "                     kernel_initializer='uniform',\n",
        "                     activation='relu')"
      ],
      "metadata": {
        "id": "70EmfCVZElK5"
      },
      "execution_count": 20,
      "outputs": []
    },
    {
      "cell_type": "code",
      "source": [
        "from tensorflow.keras.callbacks import ModelCheckpoint\n",
        "\n",
        "checkpointer = ModelCheckpoint(filepath='weights.hdf5', verbose=1,\n",
        "                               save_best_only=True)\n",
        "history = model.fit(train_x,\n",
        "                    train_y,\n",
        "                    validation_split= 0.3,                                      # The model will split the data into 30% of validation.\n",
        "                    epochs=30,                                                  # We will run the model for 30 epochs\n",
        "                    batch_size=64,                                              # We will have a batch size of 64\n",
        "                    callbacks=[checkpointer])                                   # Finally we will use the imported callback"
      ],
      "metadata": {
        "colab": {
          "base_uri": "https://localhost:8080/"
        },
        "id": "akMMRri-E8Go",
        "outputId": "4fb39edb-7225-4ac2-c97f-b2c1509f1b64"
      },
      "execution_count": 21,
      "outputs": [
        {
          "output_type": "stream",
          "name": "stdout",
          "text": [
            "Epoch 1/30\n",
            "145/147 [============================>.] - ETA: 0s - loss: 2.8855 - accuracy: 0.3116\n",
            "Epoch 1: val_loss improved from inf to 5.01753, saving model to weights.hdf5\n",
            "147/147 [==============================] - 5s 9ms/step - loss: 2.8734 - accuracy: 0.3146 - val_loss: 5.0175 - val_accuracy: 0.0352\n",
            "Epoch 2/30\n",
            " 19/147 [==>...........................] - ETA: 0s - loss: 1.9000 - accuracy: 0.5715"
          ]
        },
        {
          "output_type": "stream",
          "name": "stderr",
          "text": [
            "/usr/local/lib/python3.10/dist-packages/keras/src/engine/training.py:3103: UserWarning: You are saving your model as an HDF5 file via `model.save()`. This file format is considered legacy. We recommend using instead the native Keras format, e.g. `model.save('my_model.keras')`.\n",
            "  saving_api.save_model(\n"
          ]
        },
        {
          "output_type": "stream",
          "name": "stdout",
          "text": [
            "144/147 [============================>.] - ETA: 0s - loss: 1.5400 - accuracy: 0.6828\n",
            "Epoch 2: val_loss did not improve from 5.01753\n",
            "147/147 [==============================] - 1s 7ms/step - loss: 1.5327 - accuracy: 0.6852 - val_loss: 5.8194 - val_accuracy: 0.0352\n",
            "Epoch 3/30\n",
            "146/147 [============================>.] - ETA: 0s - loss: 0.9168 - accuracy: 0.8348\n",
            "Epoch 3: val_loss did not improve from 5.01753\n",
            "147/147 [==============================] - 1s 7ms/step - loss: 0.9164 - accuracy: 0.8343 - val_loss: 6.2912 - val_accuracy: 0.0352\n",
            "Epoch 4/30\n",
            "140/147 [===========================>..] - ETA: 0s - loss: 0.6492 - accuracy: 0.8802\n",
            "Epoch 4: val_loss improved from 5.01753 to 2.76179, saving model to weights.hdf5\n",
            "147/147 [==============================] - 1s 8ms/step - loss: 0.6445 - accuracy: 0.8811 - val_loss: 2.7618 - val_accuracy: 0.1749\n",
            "Epoch 5/30\n",
            "146/147 [============================>.] - ETA: 0s - loss: 0.4966 - accuracy: 0.9075\n",
            "Epoch 5: val_loss improved from 2.76179 to 0.84139, saving model to weights.hdf5\n",
            "147/147 [==============================] - 1s 8ms/step - loss: 0.4962 - accuracy: 0.9076 - val_loss: 0.8414 - val_accuracy: 0.7884\n",
            "Epoch 6/30\n",
            "142/147 [===========================>..] - ETA: 0s - loss: 0.4143 - accuracy: 0.9253\n",
            "Epoch 6: val_loss improved from 0.84139 to 0.42118, saving model to weights.hdf5\n",
            "147/147 [==============================] - 1s 7ms/step - loss: 0.4121 - accuracy: 0.9260 - val_loss: 0.4212 - val_accuracy: 0.9179\n",
            "Epoch 7/30\n",
            "142/147 [===========================>..] - ETA: 0s - loss: 0.3642 - accuracy: 0.9375\n",
            "Epoch 7: val_loss did not improve from 0.42118\n",
            "147/147 [==============================] - 1s 8ms/step - loss: 0.3627 - accuracy: 0.9374 - val_loss: 0.4352 - val_accuracy: 0.9045\n",
            "Epoch 8/30\n",
            "145/147 [============================>.] - ETA: 0s - loss: 0.3430 - accuracy: 0.9403\n",
            "Epoch 8: val_loss improved from 0.42118 to 0.39601, saving model to weights.hdf5\n",
            "147/147 [==============================] - 1s 9ms/step - loss: 0.3430 - accuracy: 0.9401 - val_loss: 0.3960 - val_accuracy: 0.9152\n",
            "Epoch 9/30\n",
            "145/147 [============================>.] - ETA: 0s - loss: 0.3102 - accuracy: 0.9452\n",
            "Epoch 9: val_loss did not improve from 0.39601\n",
            "147/147 [==============================] - 1s 9ms/step - loss: 0.3100 - accuracy: 0.9453 - val_loss: 0.3971 - val_accuracy: 0.9191\n",
            "Epoch 10/30\n",
            "144/147 [============================>.] - ETA: 0s - loss: 0.2900 - accuracy: 0.9492\n",
            "Epoch 10: val_loss improved from 0.39601 to 0.29516, saving model to weights.hdf5\n",
            "147/147 [==============================] - 2s 10ms/step - loss: 0.2894 - accuracy: 0.9495 - val_loss: 0.2952 - val_accuracy: 0.9464\n",
            "Epoch 11/30\n",
            "143/147 [============================>.] - ETA: 0s - loss: 0.2697 - accuracy: 0.9563\n",
            "Epoch 11: val_loss did not improve from 0.29516\n",
            "147/147 [==============================] - 1s 8ms/step - loss: 0.2707 - accuracy: 0.9558 - val_loss: 0.3547 - val_accuracy: 0.9122\n",
            "Epoch 12/30\n",
            "146/147 [============================>.] - ETA: 0s - loss: 0.2661 - accuracy: 0.9557\n",
            "Epoch 12: val_loss improved from 0.29516 to 0.26407, saving model to weights.hdf5\n",
            "147/147 [==============================] - 1s 8ms/step - loss: 0.2657 - accuracy: 0.9558 - val_loss: 0.2641 - val_accuracy: 0.9571\n",
            "Epoch 13/30\n",
            "141/147 [===========================>..] - ETA: 0s - loss: 0.2660 - accuracy: 0.9562\n",
            "Epoch 13: val_loss did not improve from 0.26407\n",
            "147/147 [==============================] - 1s 7ms/step - loss: 0.2662 - accuracy: 0.9559 - val_loss: 0.3261 - val_accuracy: 0.9375\n",
            "Epoch 14/30\n",
            "143/147 [============================>.] - ETA: 0s - loss: 0.2450 - accuracy: 0.9642\n",
            "Epoch 14: val_loss did not improve from 0.26407\n",
            "147/147 [==============================] - 1s 7ms/step - loss: 0.2450 - accuracy: 0.9640 - val_loss: 0.4451 - val_accuracy: 0.8904\n",
            "Epoch 15/30\n",
            "141/147 [===========================>..] - ETA: 0s - loss: 0.2438 - accuracy: 0.9611\n",
            "Epoch 15: val_loss did not improve from 0.26407\n",
            "147/147 [==============================] - 1s 7ms/step - loss: 0.2439 - accuracy: 0.9612 - val_loss: 0.4429 - val_accuracy: 0.8889\n",
            "Epoch 16/30\n",
            "140/147 [===========================>..] - ETA: 0s - loss: 0.2247 - accuracy: 0.9690\n",
            "Epoch 16: val_loss did not improve from 0.26407\n",
            "147/147 [==============================] - 1s 7ms/step - loss: 0.2253 - accuracy: 0.9685 - val_loss: 0.3394 - val_accuracy: 0.9308\n",
            "Epoch 17/30\n",
            "142/147 [===========================>..] - ETA: 0s - loss: 0.2254 - accuracy: 0.9667\n",
            "Epoch 17: val_loss did not improve from 0.26407\n",
            "147/147 [==============================] - 1s 7ms/step - loss: 0.2243 - accuracy: 0.9672 - val_loss: 0.5188 - val_accuracy: 0.8524\n",
            "Epoch 18/30\n",
            "142/147 [===========================>..] - ETA: 0s - loss: 0.2459 - accuracy: 0.9604\n",
            "Epoch 18: val_loss did not improve from 0.26407\n",
            "147/147 [==============================] - 1s 7ms/step - loss: 0.2467 - accuracy: 0.9601 - val_loss: 0.4598 - val_accuracy: 0.8743\n",
            "Epoch 19/30\n",
            "141/147 [===========================>..] - ETA: 0s - loss: 0.2232 - accuracy: 0.9672\n",
            "Epoch 19: val_loss did not improve from 0.26407\n",
            "147/147 [==============================] - 1s 7ms/step - loss: 0.2228 - accuracy: 0.9672 - val_loss: 0.3652 - val_accuracy: 0.9154\n",
            "Epoch 20/30\n",
            "146/147 [============================>.] - ETA: 0s - loss: 0.2159 - accuracy: 0.9671\n",
            "Epoch 20: val_loss did not improve from 0.26407\n",
            "147/147 [==============================] - 1s 9ms/step - loss: 0.2155 - accuracy: 0.9673 - val_loss: 0.3687 - val_accuracy: 0.9132\n",
            "Epoch 21/30\n",
            "146/147 [============================>.] - ETA: 0s - loss: 0.2009 - accuracy: 0.9715\n",
            "Epoch 21: val_loss did not improve from 0.26407\n",
            "147/147 [==============================] - 1s 10ms/step - loss: 0.2012 - accuracy: 0.9714 - val_loss: 0.4161 - val_accuracy: 0.8889\n",
            "Epoch 22/30\n",
            "142/147 [===========================>..] - ETA: 0s - loss: 0.2074 - accuracy: 0.9692\n",
            "Epoch 22: val_loss did not improve from 0.26407\n",
            "147/147 [==============================] - 1s 10ms/step - loss: 0.2080 - accuracy: 0.9689 - val_loss: 0.4940 - val_accuracy: 0.8849\n",
            "Epoch 23/30\n",
            "142/147 [===========================>..] - ETA: 0s - loss: 0.2114 - accuracy: 0.9700\n",
            "Epoch 23: val_loss did not improve from 0.26407\n",
            "147/147 [==============================] - 1s 7ms/step - loss: 0.2125 - accuracy: 0.9693 - val_loss: 0.5283 - val_accuracy: 0.8519\n",
            "Epoch 24/30\n",
            "145/147 [============================>.] - ETA: 0s - loss: 0.1943 - accuracy: 0.9753\n",
            "Epoch 24: val_loss did not improve from 0.26407\n",
            "147/147 [==============================] - 1s 7ms/step - loss: 0.1959 - accuracy: 0.9745 - val_loss: 0.5905 - val_accuracy: 0.8326\n",
            "Epoch 25/30\n",
            "143/147 [============================>.] - ETA: 0s - loss: 0.2139 - accuracy: 0.9674\n",
            "Epoch 25: val_loss did not improve from 0.26407\n",
            "147/147 [==============================] - 1s 7ms/step - loss: 0.2137 - accuracy: 0.9675 - val_loss: 0.3040 - val_accuracy: 0.9497\n",
            "Epoch 26/30\n",
            "144/147 [============================>.] - ETA: 0s - loss: 0.1998 - accuracy: 0.9746\n",
            "Epoch 26: val_loss did not improve from 0.26407\n",
            "147/147 [==============================] - 1s 7ms/step - loss: 0.1999 - accuracy: 0.9746 - val_loss: 0.3874 - val_accuracy: 0.9038\n",
            "Epoch 27/30\n",
            "143/147 [============================>.] - ETA: 0s - loss: 0.2038 - accuracy: 0.9708\n",
            "Epoch 27: val_loss did not improve from 0.26407\n",
            "147/147 [==============================] - 1s 7ms/step - loss: 0.2055 - accuracy: 0.9701 - val_loss: 0.3939 - val_accuracy: 0.9075\n",
            "Epoch 28/30\n",
            "144/147 [============================>.] - ETA: 0s - loss: 0.1984 - accuracy: 0.9717\n",
            "Epoch 28: val_loss did not improve from 0.26407\n",
            "147/147 [==============================] - 1s 7ms/step - loss: 0.1979 - accuracy: 0.9718 - val_loss: 0.2947 - val_accuracy: 0.9487\n",
            "Epoch 29/30\n",
            "144/147 [============================>.] - ETA: 0s - loss: 0.1986 - accuracy: 0.9725\n",
            "Epoch 29: val_loss did not improve from 0.26407\n",
            "147/147 [==============================] - 1s 7ms/step - loss: 0.1988 - accuracy: 0.9728 - val_loss: 0.3438 - val_accuracy: 0.9308\n",
            "Epoch 30/30\n",
            "144/147 [============================>.] - ETA: 0s - loss: 0.1830 - accuracy: 0.9766\n",
            "Epoch 30: val_loss improved from 0.26407 to 0.23675, saving model to weights.hdf5\n",
            "147/147 [==============================] - 1s 8ms/step - loss: 0.1832 - accuracy: 0.9763 - val_loss: 0.2368 - val_accuracy: 0.9606\n"
          ]
        }
      ]
    },
    {
      "cell_type": "code",
      "source": [
        "#load the best epoch's weights and then evaluate our model using the test set.\n",
        "model.load_weights('weights.hdf5')                                              # Loading the best weights\n",
        "model.evaluate(test_x, test_y)                                                  # Evaluating our model"
      ],
      "metadata": {
        "colab": {
          "base_uri": "https://localhost:8080/"
        },
        "id": "sW4KcOfd4t2b",
        "outputId": "3f031b08-73a5-4d37-a64d-f9d2555e5f6c"
      },
      "execution_count": 22,
      "outputs": [
        {
          "output_type": "stream",
          "name": "stdout",
          "text": [
            "105/105 [==============================] - 1s 3ms/step - loss: 0.2518 - accuracy: 0.9568\n"
          ]
        },
        {
          "output_type": "execute_result",
          "data": {
            "text/plain": [
              "[0.2518250644207001, 0.956845223903656]"
            ]
          },
          "metadata": {},
          "execution_count": 22
        }
      ]
    },
    {
      "cell_type": "code",
      "source": [
        "#plot model training journy to check the performance and verify that the model is not overfitting\n",
        "# PLOT LOSS AND ACCURACY\n",
        "%matplotlib inline\n",
        "\n",
        "import matplotlib.image  as mpimg\n",
        "import matplotlib.pyplot as plt\n",
        "\n",
        "#-----------------------------------------------------------\n",
        "# Retrieve a list of list results on training and test data\n",
        "# sets for each training epoch\n",
        "#-----------------------------------------------------------\n",
        "acc=history.history['accuracy']\n",
        "val_acc=history.history['val_accuracy']\n",
        "loss=history.history['loss']\n",
        "val_loss=history.history['val_loss']\n",
        "\n",
        "epochs=range(len(acc)) # Get number of epochs\n",
        "\n",
        "#------------------------------------------------\n",
        "# Plot training and validation accuracy per epoch\n",
        "#------------------------------------------------\n",
        "plt.plot(history.history['accuracy'])\n",
        "plt.plot(history.history['val_accuracy'])\n",
        "plt.title('Training and validation accuracy')\n",
        "plt.legend(['train', 'val'], loc='upper left')\n",
        "plt.ylabel('accuracy')\n",
        "plt.xlabel('epoch')\n",
        "plt.figure()\n",
        "\n",
        "#------------------------------------------------\n",
        "# Plot training and validation loss per epoch\n",
        "#------------------------------------------------\n",
        "plt.plot(history.history['loss'])\n",
        "plt.plot(history.history['val_loss'])\n",
        "plt.title('Training and validation loss')\n",
        "plt.legend(['train', 'val'], loc='upper left')\n",
        "plt.ylabel('accuracy')\n",
        "plt.xlabel('epoch')\n",
        "\n",
        "\n",
        "plt.title('Training and validation loss')"
      ],
      "metadata": {
        "colab": {
          "base_uri": "https://localhost:8080/",
          "height": 945
        },
        "id": "GMmufk_b5RwK",
        "outputId": "2fc650db-a9c7-4a79-8fa2-9e2506d59aba"
      },
      "execution_count": 23,
      "outputs": [
        {
          "output_type": "execute_result",
          "data": {
            "text/plain": [
              "Text(0.5, 1.0, 'Training and validation loss')"
            ]
          },
          "metadata": {},
          "execution_count": 23
        },
        {
          "output_type": "display_data",
          "data": {
            "text/plain": [
              "<Figure size 640x480 with 1 Axes>"
            ],
            "image/png": "[encoded data removed]"
          },
          "metadata": {}
        },
        {
          "output_type": "display_data",
          "data": {
            "text/plain": [
              "<Figure size 640x480 with 1 Axes>"
            ],
            "image/png": "[encoded data removed]"
          },
          "metadata": {}
        }
      ]
    },
    {
      "cell_type": "code",
      "source": [
        "#save the model\n",
        "model.save('alifLam_1.h5')"
      ],
      "metadata": {
        "id": "97y75DcH5kTW"
      },
      "execution_count": 24,
      "outputs": []
    },
    {
      "cell_type": "markdown",
      "source": [
        "TESTING THE MODEL"
      ],
      "metadata": {
        "id": "v3GWFbmS70_z"
      }
    },
    {
      "cell_type": "code",
      "source": [
        "model = tf.keras.models.load_model('alifLam_1.h5')"
      ],
      "metadata": {
        "id": "WLggR-q_5nkb"
      },
      "execution_count": 27,
      "outputs": []
    },
    {
      "cell_type": "code",
      "source": [
        "from google.colab import files\n",
        "\n",
        "def predict_image(image, model_path, arabic_chars):\n",
        "    model = tf.keras.models.load_model(model_path)\n",
        "\n",
        "    # Preprocess the image\n",
        "    img = cv2.cvtColor(image, cv2.COLOR_BGR2GRAY)  # Convert to grayscale\n",
        "    img = cv2.bitwise_not(img)  # Invert colors\n",
        "    img = cv2.resize(img, (32, 32))\n",
        "    img = img.reshape(-1, 32, 32, 1)\n",
        "    img = img.astype('float32') / 255.0\n",
        "\n",
        "    # Predict the character\n",
        "    pred = model.predict(img)\n",
        "    predicted_label = arabic_chars[np.argmax(pred)+1]\n",
        "\n",
        "    return predicted_label\n",
        "\n",
        "def plot_image(image):\n",
        "    plt.imshow(image, cmap='gray')\n",
        "    plt.axis('off')\n",
        "    plt.show()\n",
        "\n",
        "# Example usage\n",
        "def upload_and_predict(model_path, arabic_chars):\n",
        "    # Upload the file\n",
        "    uploaded = files.upload()\n",
        "\n",
        "    for fn in uploaded.keys():\n",
        "        # Read the uploaded image\n",
        "        image = cv2.imread(fn)\n",
        "\n",
        "        # Predict the character\n",
        "        predicted_label = predict_image(image, model_path, arabic_chars)\n",
        "        print(\"Predicted label:\", predicted_label)\n",
        "\n",
        "        # Plot the uploaded image\n",
        "        plot_image(image)\n",
        "\n",
        "# Example usage\n",
        "model_path = \"alifLam_1.h5\"\n",
        "arabic_chars = {\n",
        "    1: 'alif', 2: 'ba', 3: 'ta', 4: 'tsa', 5: 'jim', 6: 'hâ', 7: 'khâ', 8: 'dal', 9: 'dzal',\n",
        "    10: 'ra', 11: 'zai', 12: 'sîn', 13: 'syîn', 14: 'shâd', 15: 'dhâd', 16: 'thâ', 17: 'zhâ',\n",
        "    18: 'âin', 19: 'ghain', 20: 'fa', 21: 'qâf', 22: 'kâf', 23: 'lam', 24: 'mîm', 25: 'nun',\n",
        "    26: 'Ha', 27: 'waw', 28: 'yâ'\n",
        "}\n",
        "\n",
        "upload_and_predict(model_path, arabic_chars)\n"
      ],
      "metadata": {
        "colab": {
          "base_uri": "https://localhost:8080/",
          "height": 498
        },
        "id": "homAqAYcWa_u",
        "outputId": "512a51fa-55bc-427f-a055-68526f667bcb"
      },
      "execution_count": 29,
      "outputs": [
        {
          "output_type": "display_data",
          "data": {
            "text/plain": [
              "<IPython.core.display.HTML object>"
            ],
            "text/html": [
              "\n",
              "     <input type=\"file\" id=\"files-cbc22ebf-d658-406a-b732-868d9846da11\" name=\"files[]\" multiple disabled\n",
              "        style=\"border:none\" />\n",
              "     <output id=\"result-cbc22ebf-d658-406a-b732-868d9846da11\">\n",
              "      Upload widget is only available when the cell has been executed in the\n",
              "      current browser session. Please rerun this cell to enable.\n",
              "      </output>\n",
              "      <script>// Copyright 2017 Google LLC\n",
              "//\n",
              "// Licensed under the Apache License, Version 2.0 (the \"License\");\n",
              "// you may not use this file except in compliance with the License.\n",
              "// You may obtain a copy of the License at\n",
              "//\n",
              "//      http://www.apache.org/licenses/LICENSE-2.0\n",
              "//\n",
              "// Unless required by applicable law or agreed to in writing, software\n",
              "// distributed under the License is distributed on an \"AS IS\" BASIS,\n",
              "// WITHOUT WARRANTIES OR CONDITIONS OF ANY KIND, either express or implied.\n",
              "// See the License for the specific language governing permissions and\n",
              "// limitations under the License.\n",
              "\n",
              "/**\n",
              " * @fileoverview Helpers for google.colab Python module.\n",
              " */\n",
              "(function(scope) {\n",
              "function span(text, styleAttributes = {}) {\n",
              "  const element = document.createElement('span');\n",
              "  element.textContent = text;\n",
              "  for (const key of Object.keys(styleAttributes)) {\n",
              "    element.style[key] = styleAttributes[key];\n",
              "  }\n",
              "  return element;\n",
              "}\n",
              "\n",
              "// Max number of bytes which will be uploaded at a time.\n",
              "const MAX_PAYLOAD_SIZE = 100 * 1024;\n",
              "\n",
              "function _uploadFiles(inputId, outputId) {\n",
              "  const steps = uploadFilesStep(inputId, outputId);\n",
              "  const outputElement = document.getElementById(outputId);\n",
              "  // Cache steps on the outputElement to make it available for the next call\n",
              "  // to uploadFilesContinue from Python.\n",
              "  outputElement.steps = steps;\n",
              "\n",
              "  return _uploadFilesContinue(outputId);\n",
              "}\n",
              "\n",
              "// This is roughly an async generator (not supported in the browser yet),\n",
              "// where there are multiple asynchronous steps and the Python side is going\n",
              "// to poll for completion of each step.\n",
              "// This uses a Promise to block the python side on completion of each step,\n",
              "// then passes the result of the previous step as the input to the next step.\n",
              "function _uploadFilesContinue(outputId) {\n",
              "  const outputElement = document.getElementById(outputId);\n",
              "  const steps = outputElement.steps;\n",
              "\n",
              "  const next = steps.next(outputElement.lastPromiseValue);\n",
              "  return Promise.resolve(next.value.promise).then((value) => {\n",
              "    // Cache the last promise value to make it available to the next\n",
              "    // step of the generator.\n",
              "    outputElement.lastPromiseValue = value;\n",
              "    return next.value.response;\n",
              "  });\n",
              "}\n",
              "\n",
              "/**\n",
              " * Generator function which is called between each async step of the upload\n",
              " * process.\n",
              " * @param {string} inputId Element ID of the input file picker element.\n",
              " * @param {string} outputId Element ID of the output display.\n",
              " * @return {!Iterable<!Object>} Iterable of next steps.\n",
              " */\n",
              "function* uploadFilesStep(inputId, outputId) {\n",
              "  const inputElement = document.getElementById(inputId);\n",
              "  inputElement.disabled = false;\n",
              "\n",
              "  const outputElement = document.getElementById(outputId);\n",
              "  outputElement.innerHTML = '';\n",
              "\n",
              "  const pickedPromise = new Promise((resolve) => {\n",
              "    inputElement.addEventListener('change', (e) => {\n",
              "      resolve(e.target.files);\n",
              "    });\n",
              "  });\n",
              "\n",
              "  const cancel = document.createElement('button');\n",
              "  inputElement.parentElement.appendChild(cancel);\n",
              "  cancel.textContent = 'Cancel upload';\n",
              "  const cancelPromise = new Promise((resolve) => {\n",
              "    cancel.onclick = () => {\n",
              "      resolve(null);\n",
              "    };\n",
              "  });\n",
              "\n",
              "  // Wait for the user to pick the files.\n",
              "  const files = yield {\n",
              "    promise: Promise.race([pickedPromise, cancelPromise]),\n",
              "    response: {\n",
              "      action: 'starting',\n",
              "    }\n",
              "  };\n",
              "\n",
              "  cancel.remove();\n",
              "\n",
              "  // Disable the input element since further picks are not allowed.\n",
              "  inputElement.disabled = true;\n",
              "\n",
              "  if (!files) {\n",
              "    return {\n",
              "      response: {\n",
              "        action: 'complete',\n",
              "      }\n",
              "    };\n",
              "  }\n",
              "\n",
              "  for (const file of files) {\n",
              "    const li = document.createElement('li');\n",
              "    li.append(span(file.name, {fontWeight: 'bold'}));\n",
              "    li.append(span(\n",
              "        `(${file.type || 'n/a'}) - ${file.size} bytes, ` +\n",
              "        `last modified: ${\n",
              "            file.lastModifiedDate ? file.lastModifiedDate.toLocaleDateString() :\n",
              "                                    'n/a'} - `));\n",
              "    const percent = span('0% done');\n",
              "    li.appendChild(percent);\n",
              "\n",
              "    outputElement.appendChild(li);\n",
              "\n",
              "    const fileDataPromise = new Promise((resolve) => {\n",
              "      const reader = new FileReader();\n",
              "      reader.onload = (e) => {\n",
              "        resolve(e.target.result);\n",
              "      };\n",
              "      reader.readAsArrayBuffer(file);\n",
              "    });\n",
              "    // Wait for the data to be ready.\n",
              "    let fileData = yield {\n",
              "      promise: fileDataPromise,\n",
              "      response: {\n",
              "        action: 'continue',\n",
              "      }\n",
              "    };\n",
              "\n",
              "    // Use a chunked sending to avoid message size limits. See b/62115660.\n",
              "    let position = 0;\n",
              "    do {\n",
              "      const length = Math.min(fileData.byteLength - position, MAX_PAYLOAD_SIZE);\n",
              "      const chunk = new Uint8Array(fileData, position, length);\n",
              "      position += length;\n",
              "\n",
              "      const base64 = btoa(String.fromCharCode.apply(null, chunk));\n",
              "      yield {\n",
              "        response: {\n",
              "          action: 'append',\n",
              "          file: file.name,\n",
              "          data: base64,\n",
              "        },\n",
              "      };\n",
              "\n",
              "      let percentDone = fileData.byteLength === 0 ?\n",
              "          100 :\n",
              "          Math.round((position / fileData.byteLength) * 100);\n",
              "      percent.textContent = `${percentDone}% done`;\n",
              "\n",
              "    } while (position < fileData.byteLength);\n",
              "  }\n",
              "\n",
              "  // All done.\n",
              "  yield {\n",
              "    response: {\n",
              "      action: 'complete',\n",
              "    }\n",
              "  };\n",
              "}\n",
              "\n",
              "scope.google = scope.google || {};\n",
              "scope.google.colab = scope.google.colab || {};\n",
              "scope.google.colab._files = {\n",
              "  _uploadFiles,\n",
              "  _uploadFilesContinue,\n",
              "};\n",
              "})(self);\n",
              "</script> "
            ]
          },
          "metadata": {}
        },
        {
          "output_type": "stream",
          "name": "stdout",
          "text": [
            "Saving tes1.png to tes1 (3).png\n",
            "1/1 [==============================] - 0s 109ms/step\n",
            "Predicted label: alif\n"
          ]
        },
        {
          "output_type": "display_data",
          "data": {
            "text/plain": [
              "<Figure size 640x480 with 1 Axes>"
            ],
            "image/png": "[encoded data removed]"
          },
          "metadata": {}
        }
      ]
    }
  ]
}