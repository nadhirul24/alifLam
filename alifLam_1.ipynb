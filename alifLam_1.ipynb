{
  "nbformat": 4,
  "nbformat_minor": 0,
  "metadata": {
    "colab": {
      "provenance": [],
      "gpuType": "T4"
    },
    "kernelspec": {
      "name": "python3",
      "display_name": "Python 3"
    },
    "language_info": {
      "name": "python"
    },
    "accelerator": "GPU"
  },
  "cells": [
    {
      "cell_type": "markdown",
      "source": [
        "#alifLam\n",
        "\n",
        "\n",
        "*   Try - 1:\n",
        "*   ....\n",
        "\n"
      ],
      "metadata": {
        "id": "xuTDGCNJhbqs"
      }
    },
    {
      "cell_type": "markdown",
      "source": [
        "###prepare the colab directory"
      ],
      "metadata": {
        "id": "FXbPRB1G1gqz"
      }
    },
    {
      "cell_type": "code",
      "source": [
        "import shutil, os\n",
        "\n",
        "folder_to_remove = '/content/sample_data'\n",
        "\n",
        "try:\n",
        "  shutil.rmtree(folder_to_remove)\n",
        "  print(f'folder {folder_to_remove} and its contents has been deleted')\n",
        "except FileNotFoundError:\n",
        "  print(f'folder {folder_to_remove}, is not exist')\n",
        "except PermissionError:\n",
        "  print(f'permission denied to delete {folder_to_remove}')\n",
        "except Exception as e:\n",
        "  print(f'an error has occured {e}')"
      ],
      "metadata": {
        "colab": {
          "base_uri": "https://localhost:8080/"
        },
        "id": "vW6VLdOH1vA9",
        "outputId": "5c7c8ba2-e1f7-4c95-80fe-5b1893c37e16"
      },
      "execution_count": 1,
      "outputs": [
        {
          "output_type": "stream",
          "name": "stdout",
          "text": [
            "folder /content/sample_data and its contents has been deleted\n"
          ]
        }
      ]
    },
    {
      "cell_type": "markdown",
      "source": [
        "### Library"
      ],
      "metadata": {
        "id": "581Xe60kh5cr"
      }
    },
    {
      "cell_type": "code",
      "execution_count": 2,
      "metadata": {
        "id": "q60mfv53g73-"
      },
      "outputs": [],
      "source": [
        "#import library\n",
        "import tensorflow as tf\n",
        "import numpy as np\n",
        "import pandas as pd\n",
        "import cv2\n",
        "from matplotlib import pyplot as plt\n",
        "from tensorflow.keras.utils import to_categorical\n",
        "import zipfile, os\n",
        "import gdown"
      ]
    },
    {
      "cell_type": "code",
      "source": [
        "#download the data\n",
        "# https://drive.google.com/file/d/1dHnOh6MwY1LBQsZx9GK7rO88GhNnfTeK/view?usp=sharing\n",
        "file_id = '1dHnOh6MwY1LBQsZx9GK7rO88GhNnfTeK'\n",
        "url = f'https://drive.google.com/uc?id={file_id}'\n",
        "\n",
        "#download the file\n",
        "gdown.download(url, 'dataset.zip', quiet=False)"
      ],
      "metadata": {
        "colab": {
          "base_uri": "https://localhost:8080/",
          "height": 107
        },
        "id": "DC64JP8wiUTx",
        "outputId": "d133517a-8f42-4b03-de87-0407f0c8f6ea"
      },
      "execution_count": 3,
      "outputs": [
        {
          "output_type": "stream",
          "name": "stderr",
          "text": [
            "Downloading...\n",
            "From: https://drive.google.com/uc?id=1dHnOh6MwY1LBQsZx9GK7rO88GhNnfTeK\n",
            "To: /content/dataset.zip\n",
            "100%|██████████| 23.5M/23.5M [00:00<00:00, 29.0MB/s]\n"
          ]
        },
        {
          "output_type": "execute_result",
          "data": {
            "text/plain": [
              "'dataset.zip'"
            ],
            "application/vnd.google.colaboratory.intrinsic+json": {
              "type": "string"
            }
          },
          "metadata": {},
          "execution_count": 3
        }
      ]
    },
    {
      "cell_type": "code",
      "source": [
        "#extract the data\n",
        "zip_target = '/content/dataset.zip'\n",
        "\n",
        "extracting = zipfile.ZipFile(zip_target, 'r')\n",
        "extracting.extractall()\n",
        "extracting.close()"
      ],
      "metadata": {
        "id": "tcfyx_PPi3_D"
      },
      "execution_count": 4,
      "outputs": []
    },
    {
      "cell_type": "code",
      "source": [
        "#remove the __MACOSX\n",
        "\n",
        "folder_to_remove = '/content/__MACOSX'\n",
        "\n",
        "try:\n",
        "  shutil.rmtree(folder_to_remove)\n",
        "  print(f'folder {folder_to_remove} and its contents has been deleted')\n",
        "except FileNotFoundError:\n",
        "  print(f'folder {folder_to_remove}, is not exist')\n",
        "except PermissionError:\n",
        "  print(f'permission denied to delete {folder_to_remove}')\n",
        "except Exception as e:\n",
        "  print(f'an error has occured {e}')"
      ],
      "metadata": {
        "colab": {
          "base_uri": "https://localhost:8080/"
        },
        "id": "KDLurFz73RFy",
        "outputId": "3414aa55-992e-4138-e4c7-d8a1e9674cf5"
      },
      "execution_count": 5,
      "outputs": [
        {
          "output_type": "stream",
          "name": "stdout",
          "text": [
            "folder /content/__MACOSX and its contents has been deleted\n"
          ]
        }
      ]
    },
    {
      "cell_type": "code",
      "source": [
        "os.listdir('/content/dataset')"
      ],
      "metadata": {
        "colab": {
          "base_uri": "https://localhost:8080/"
        },
        "id": "95v4Uu4Ks_2a",
        "outputId": "94fe6c6e-a1e9-447b-872b-d9506a528637"
      },
      "execution_count": 6,
      "outputs": [
        {
          "output_type": "execute_result",
          "data": {
            "text/plain": [
              "['Train+Test Images Matlab.mat',\n",
              " 'Test Images 3360x32x32',\n",
              " 'Train Images 13440x32x32',\n",
              " 'csvTestImages 3360x1024.csv',\n",
              " 'csvTrainLabel 13440x1.csv',\n",
              " 'csvTestLabel 3360x1.csv',\n",
              " 'Arabic Handwritten Characters Dataset CSV',\n",
              " 'csvTrainImages 13440x1024.csv']"
            ]
          },
          "metadata": {},
          "execution_count": 6
        }
      ]
    },
    {
      "cell_type": "code",
      "source": [
        "# csvTrainImages 13440x1024.csv\n",
        "#read data\n",
        "path = '/content/dataset'\n",
        "\n",
        "train_data_x = pd.read_csv(path + '/csvTrainImages 13440x1024.csv', header=None)\n",
        "train_data_y = pd.read_csv(path + '/csvTrainLabel 13440x1.csv', header=None)\n",
        "test_data_x = pd.read_csv(path + '/csvTestImages 3360x1024.csv', header=None)\n",
        "test_data_y = pd.read_csv(path + '/csvTestLabel 3360x1.csv', header=None)"
      ],
      "metadata": {
        "id": "WEIjazThsMLk"
      },
      "execution_count": 7,
      "outputs": []
    },
    {
      "cell_type": "code",
      "source": [
        "#examine data\n",
        "#23 classes -> 28 huruf Hijaiyah tanpa hamzah\n",
        "print('We have  %d training images each contains %d pixels.' %(train_data_x.shape[0], train_data_x.shape[1]))\n",
        "print('We have  %d training labels each contains %d classes.' %(train_data_y.shape[0], len(train_data_y.value_counts())))\n",
        "print('We have  %d testing images each contains %d pixels.' %(test_data_x.shape[0], test_data_x.shape[1]))\n",
        "print('We have  %d testing labels each contains %d classes.' %(test_data_y.shape[0], len(test_data_y.value_counts())))"
      ],
      "metadata": {
        "colab": {
          "base_uri": "https://localhost:8080/"
        },
        "id": "o1vf2cmYul7Z",
        "outputId": "37438dd5-73fe-4888-92e5-89986a93540e"
      },
      "execution_count": 8,
      "outputs": [
        {
          "output_type": "stream",
          "name": "stdout",
          "text": [
            "We have  13440 training images each contains 1024 pixels.\n",
            "We have  13440 training labels each contains 28 classes.\n",
            "We have  3360 testing images each contains 1024 pixels.\n",
            "We have  3360 testing labels each contains 28 classes.\n"
          ]
        }
      ]
    },
    {
      "cell_type": "code",
      "source": [
        "#check total label per character\n",
        "train_data_y.value_counts()"
      ],
      "metadata": {
        "colab": {
          "base_uri": "https://localhost:8080/"
        },
        "id": "KNyd9ujcvA4A",
        "outputId": "2ae8fa5b-750b-4e98-b8da-4d4b5e82388f"
      },
      "execution_count": 9,
      "outputs": [
        {
          "output_type": "execute_result",
          "data": {
            "text/plain": [
              "1     480\n",
              "2     480\n",
              "3     480\n",
              "4     480\n",
              "5     480\n",
              "6     480\n",
              "7     480\n",
              "8     480\n",
              "9     480\n",
              "10    480\n",
              "11    480\n",
              "12    480\n",
              "13    480\n",
              "14    480\n",
              "15    480\n",
              "16    480\n",
              "17    480\n",
              "18    480\n",
              "19    480\n",
              "20    480\n",
              "21    480\n",
              "22    480\n",
              "23    480\n",
              "24    480\n",
              "25    480\n",
              "26    480\n",
              "27    480\n",
              "28    480\n",
              "Name: count, dtype: int64"
            ]
          },
          "metadata": {},
          "execution_count": 9
        }
      ]
    },
    {
      "cell_type": "code",
      "source": [
        "arabic_chars = {1: 'alif',\n",
        "                2: 'ba',\n",
        "                3: 'ta',\n",
        "                4: 'tsa',\n",
        "                5: 'jim',\n",
        "                6: 'hâ',\n",
        "                7: 'khâ',\n",
        "                8: 'dal',\n",
        "                9: 'dzal',\n",
        "                10: 'ra',\n",
        "                11: 'zai',\n",
        "                12: 'sîn',\n",
        "                13: 'syîn',\n",
        "                14: 'shâd',\n",
        "                15: 'dhâd',\n",
        "                16: 'thâ',\n",
        "                17: 'zhâ',\n",
        "                18: 'âin',\n",
        "                19: 'ghain',\n",
        "                20: 'fa',\n",
        "                21: 'qâf',\n",
        "                22: 'kâf',\n",
        "                23: 'lam',\n",
        "                24: 'mîm',\n",
        "                25: 'nun',\n",
        "                26: 'Ha',\n",
        "                27: 'waw',\n",
        "                28: 'yâ'\n",
        "               }"
      ],
      "metadata": {
        "id": "UyStxa2xFCoL"
      },
      "execution_count": 10,
      "outputs": []
    },
    {
      "cell_type": "code",
      "source": [
        "#visualization\n",
        "fig = plt.figure(figsize=(8, 8))\n",
        "columns = 4\n",
        "rows = 5\n",
        "for i in range(1, columns*rows + 1):\n",
        "  img = test_data_x.iloc[i].to_numpy().reshape((32, 32))\n",
        "  fig.add_subplot(rows, columns, i)\n",
        "  plt.imshow(img, cmap='gray')\n",
        "\n",
        "plt.show()"
      ],
      "metadata": {
        "colab": {
          "base_uri": "https://localhost:8080/",
          "height": 680
        },
        "id": "bEWBckX1wThU",
        "outputId": "aef5a662-4a98-450d-ccf7-e8fae8bc194f"
      },
      "execution_count": 11,
      "outputs": [
        {
          "output_type": "display_data",
          "data": {
            "text/plain": [
              "<Figure size 800x800 with 20 Axes>"
            ],
            "image/png": "[encoded data removed]"
          },
          "metadata": {}
        }
      ]
    },
    {
      "cell_type": "code",
      "source": [
        "#preprocessing\n",
        "\n",
        "def preprocess_data(train_data_x):\n",
        "  train_data_x = train_data_x.to_numpy().reshape((train_data_x.shape[0], 32, 32)).astype('uint8')\n",
        "  for i in range(len(train_data_x)):\n",
        "    train_data_x[i] = cv2.rotate(train_data_x[i], cv2.ROTATE_90_CLOCKWISE)\n",
        "    train_data_x[i] = np.flip(train_data_x[i], 1)\n",
        "  train_data_x = train_data_x.reshape([-1, 32, 32, 1]).astype('uint8')\n",
        "  train_data_x = train_data_x.astype('float32')/255\n",
        "\n",
        "  return np.asanyarray(train_data_x)"
      ],
      "metadata": {
        "id": "5VnE96puwl83"
      },
      "execution_count": 12,
      "outputs": []
    },
    {
      "cell_type": "code",
      "source": [
        "train_x = preprocess_data(train_data_x)\n",
        "\n",
        "test_x = preprocess_data(test_data_x)"
      ],
      "metadata": {
        "id": "qROVQ04yy3t9"
      },
      "execution_count": 13,
      "outputs": []
    },
    {
      "cell_type": "code",
      "source": [
        "#process the label\n",
        "train_y = to_categorical(train_data_y.values.astype('int32') - 1,\n",
        "                         num_classes=28)\n",
        "\n",
        "test_y = to_categorical(test_data_y.values.astype('int32') - 1,\n",
        "                        num_classes=28)"
      ],
      "metadata": {
        "id": "NaBDU7VTyBYM"
      },
      "execution_count": 14,
      "outputs": []
    },
    {
      "cell_type": "code",
      "source": [
        "#shuffle our train and test data\n",
        "\n",
        "%%capture\n",
        "from sklearn.utils import shuffle\n",
        "\n",
        "train_x, train_y = shuffle(train_x, train_y)\n",
        "test_x, test_y = shuffle(test_x, test_y)"
      ],
      "metadata": {
        "id": "VtDMZBLJyegE"
      },
      "execution_count": 15,
      "outputs": []
    },
    {
      "cell_type": "code",
      "source": [
        "#build the model\n",
        "from tensorflow.keras.models import Sequential\n",
        "from tensorflow.keras.layers import Conv2D, MaxPooling2D, GlobalAveragePooling2D, BatchNormalization, Dropout, Dense, Flatten\n",
        "\n",
        "def create_model(activation='relu', optimizer='adam', kernel_initializer='he_normal'):\n",
        "\n",
        "  model = Sequential()\n",
        "\n",
        "  model.add(Conv2D(32, (3,3), padding='same', input_shape=(32,32,1), activation=activation, kernel_initializer=kernel_initializer))\n",
        "  model.add(MaxPooling2D(2,2))\n",
        "  model.add(BatchNormalization())\n",
        "\n",
        "  model.add(Conv2D(64, (3,3), padding='same', activation= activation, kernel_initializer=kernel_initializer))\n",
        "  model.add(MaxPooling2D(2,2))\n",
        "  model.add(Dropout(0.2))\n",
        "  model.add(BatchNormalization())\n",
        "\n",
        "  model.add(Conv2D(128, (3,3), padding='same', activation= activation, kernel_initializer=kernel_initializer))\n",
        "  model.add(MaxPooling2D(2,2))\n",
        "  model.add(Dropout(0.2))\n",
        "  model.add(BatchNormalization())\n",
        "\n",
        "  model.add(Flatten())\n",
        "\n",
        "  model.add(Dense(32, activation= activation, kernel_initializer=kernel_initializer, kernel_regularizer='l2'))\n",
        "  model.add(BatchNormalization())\n",
        "  model.add(Dropout(0.2))\n",
        "\n",
        "  model.add(Dense(28, activation='softmax'))\n",
        "\n",
        "  model.compile(optimizer=optimizer,\n",
        "                loss='categorical_crossentropy',\n",
        "                metrics=['accuracy'])\n",
        "  return model\n",
        "\n"
      ],
      "metadata": {
        "id": "qTeZ5fFw0CvQ"
      },
      "execution_count": 16,
      "outputs": []
    },
    {
      "cell_type": "code",
      "source": [
        "model = create_model()\n",
        "\n",
        "model.summary()"
      ],
      "metadata": {
        "colab": {
          "base_uri": "https://localhost:8080/"
        },
        "id": "1eTGzKX013Aq",
        "outputId": "fb88e892-3b59-4828-bcb4-88a332cdc48e"
      },
      "execution_count": 17,
      "outputs": [
        {
          "output_type": "stream",
          "name": "stdout",
          "text": [
            "Model: \"sequential\"\n",
            "_________________________________________________________________\n",
            " Layer (type)                Output Shape              Param #   \n",
            "=================================================================\n",
            " conv2d (Conv2D)             (None, 32, 32, 32)        320       \n",
            "                                                                 \n",
            " max_pooling2d (MaxPooling2  (None, 16, 16, 32)        0         \n",
            " D)                                                              \n",
            "                                                                 \n",
            " batch_normalization (Batch  (None, 16, 16, 32)        128       \n",
            " Normalization)                                                  \n",
            "                                                                 \n",
            " conv2d_1 (Conv2D)           (None, 16, 16, 64)        18496     \n",
            "                                                                 \n",
            " max_pooling2d_1 (MaxPoolin  (None, 8, 8, 64)          0         \n",
            " g2D)                                                            \n",
            "                                                                 \n",
            " dropout (Dropout)           (None, 8, 8, 64)          0         \n",
            "                                                                 \n",
            " batch_normalization_1 (Bat  (None, 8, 8, 64)          256       \n",
            " chNormalization)                                                \n",
            "                                                                 \n",
            " conv2d_2 (Conv2D)           (None, 8, 8, 128)         73856     \n",
            "                                                                 \n",
            " max_pooling2d_2 (MaxPoolin  (None, 4, 4, 128)         0         \n",
            " g2D)                                                            \n",
            "                                                                 \n",
            " dropout_1 (Dropout)         (None, 4, 4, 128)         0         \n",
            "                                                                 \n",
            " batch_normalization_2 (Bat  (None, 4, 4, 128)         512       \n",
            " chNormalization)                                                \n",
            "                                                                 \n",
            " flatten (Flatten)           (None, 2048)              0         \n",
            "                                                                 \n",
            " dense (Dense)               (None, 32)                65568     \n",
            "                                                                 \n",
            " batch_normalization_3 (Bat  (None, 32)                128       \n",
            " chNormalization)                                                \n",
            "                                                                 \n",
            " dropout_2 (Dropout)         (None, 32)                0         \n",
            "                                                                 \n",
            " dense_1 (Dense)             (None, 28)                924       \n",
            "                                                                 \n",
            "=================================================================\n",
            "Total params: 160188 (625.73 KB)\n",
            "Trainable params: 159676 (623.73 KB)\n",
            "Non-trainable params: 512 (2.00 KB)\n",
            "_________________________________________________________________\n"
          ]
        }
      ]
    },
    {
      "cell_type": "code",
      "source": [
        "#tunning\n",
        "seed = 7                                                                        # Select a fixed seed\n",
        "np.random.seed(seed)                                                            # Specifing the seed for our random generator\n",
        "\n",
        "optimizer = ['RMSprop', 'Adam', 'Adagrad', 'Nadam']                             # Available optimizers\n",
        "kernel_initializer = ['normal', 'uniform']                                      # Available initializing methods\n",
        "activation = ['relu', 'linear', 'tanh']                                         # Available activation functions\n",
        "\n",
        "param_grid = dict(optimizer=optimizer,                                          # Creating the grid\n",
        "                  kernel_initializer=kernel_initializer,\n",
        "                  activation=activation)\n",
        "\n",
        "parameters_number = 1\n",
        "for x in param_grid:\n",
        "  parameters_number = parameters_number * len(param_grid[x])\n",
        "print(\"Number of different parameter combinations = {}\".format(parameters_number))"
      ],
      "metadata": {
        "colab": {
          "base_uri": "https://localhost:8080/"
        },
        "id": "o9Vzi49F2VIm",
        "outputId": "13ed4777-ac3f-48f0-c37f-72b8435186c2"
      },
      "execution_count": 18,
      "outputs": [
        {
          "output_type": "stream",
          "name": "stdout",
          "text": [
            "Number of different parameter combinations = 24\n"
          ]
        }
      ]
    },
    {
      "cell_type": "markdown",
      "source": [
        "we gonna try to catch 24 combinations of parameters 🤡"
      ],
      "metadata": {
        "id": "tFwZUghN6Sv4"
      }
    },
    {
      "cell_type": "code",
      "source": [
        "epochs = 5                                                                      # Specifing the number of epochs for each combination\n",
        "batch_size = 64                                                                 # Setting the batch size\n",
        "\n",
        "# Here we will create our different models and run them for 5 epochs each.\n",
        "for a,b,c in [(x,y,z) for x in optimizer for z in activation for y in kernel_initializer]:\n",
        "    params = {'optimizer' : a , 'kernel_initializer' : b , 'activation' : c}\n",
        "    print(params)\n",
        "    curr_model = create_model(optimizer=a, kernel_initializer=b, activation=c)\n",
        "    curr_model.fit(train_x, train_y,\n",
        "                    validation_split=0.3,\n",
        "                    epochs=epochs, batch_size=batch_size, verbose=1)\n",
        "    print(\"=============================================================================\")"
      ],
      "metadata": {
        "colab": {
          "base_uri": "https://localhost:8080/"
        },
        "id": "3kqGDqhj2ZA9",
        "outputId": "d2b3d9b1-3f8e-4f40-e1f1-6d24ac785165"
      },
      "execution_count": 19,
      "outputs": [
        {
          "output_type": "stream",
          "name": "stdout",
          "text": [
            "{'optimizer': 'RMSprop', 'kernel_initializer': 'normal', 'activation': 'relu'}\n",
            "Epoch 1/5\n",
            "147/147 [==============================] - 8s 9ms/step - loss: 3.5057 - accuracy: 0.3451 - val_loss: 4.7724 - val_accuracy: 0.0387\n",
            "Epoch 2/5\n",
            "147/147 [==============================] - 1s 9ms/step - loss: 1.7081 - accuracy: 0.6926 - val_loss: 4.5604 - val_accuracy: 0.0345\n",
            "Epoch 3/5\n",
            "147/147 [==============================] - 2s 12ms/step - loss: 0.9846 - accuracy: 0.8199 - val_loss: 4.3245 - val_accuracy: 0.0360\n",
            "Epoch 4/5\n",
            "147/147 [==============================] - 2s 11ms/step - loss: 0.6591 - accuracy: 0.8793 - val_loss: 1.8303 - val_accuracy: 0.4762\n",
            "Epoch 5/5\n",
            "147/147 [==============================] - 2s 11ms/step - loss: 0.4948 - accuracy: 0.9111 - val_loss: 0.6717 - val_accuracy: 0.8755\n",
            "=============================================================================\n",
            "{'optimizer': 'RMSprop', 'kernel_initializer': 'uniform', 'activation': 'relu'}\n",
            "Epoch 1/5\n",
            "147/147 [==============================] - 3s 9ms/step - loss: 2.5265 - accuracy: 0.4260 - val_loss: 4.9857 - val_accuracy: 0.0345\n",
            "Epoch 2/5\n",
            "147/147 [==============================] - 1s 7ms/step - loss: 1.2032 - accuracy: 0.7761 - val_loss: 5.5781 - val_accuracy: 0.0345\n",
            "Epoch 3/5\n",
            "147/147 [==============================] - 1s 7ms/step - loss: 0.6990 - accuracy: 0.8750 - val_loss: 4.9123 - val_accuracy: 0.0345\n",
            "Epoch 4/5\n",
            "147/147 [==============================] - 1s 7ms/step - loss: 0.4873 - accuracy: 0.9099 - val_loss: 2.6801 - val_accuracy: 0.1334\n",
            "Epoch 5/5\n",
            "147/147 [==============================] - 1s 7ms/step - loss: 0.4009 - accuracy: 0.9255 - val_loss: 0.4948 - val_accuracy: 0.8996\n",
            "=============================================================================\n",
            "{'optimizer': 'RMSprop', 'kernel_initializer': 'normal', 'activation': 'linear'}\n",
            "Epoch 1/5\n",
            "147/147 [==============================] - 4s 12ms/step - loss: 3.1571 - accuracy: 0.4014 - val_loss: 4.7669 - val_accuracy: 0.0345\n",
            "Epoch 2/5\n",
            "147/147 [==============================] - 1s 7ms/step - loss: 1.6112 - accuracy: 0.6874 - val_loss: 4.5913 - val_accuracy: 0.0680\n",
            "Epoch 3/5\n",
            "147/147 [==============================] - 1s 7ms/step - loss: 1.0109 - accuracy: 0.7992 - val_loss: 3.4146 - val_accuracy: 0.1300\n",
            "Epoch 4/5\n",
            "147/147 [==============================] - 1s 8ms/step - loss: 0.7371 - accuracy: 0.8509 - val_loss: 1.6991 - val_accuracy: 0.4683\n",
            "Epoch 5/5\n",
            "147/147 [==============================] - 1s 7ms/step - loss: 0.6024 - accuracy: 0.8736 - val_loss: 0.6335 - val_accuracy: 0.8725\n",
            "=============================================================================\n",
            "{'optimizer': 'RMSprop', 'kernel_initializer': 'uniform', 'activation': 'linear'}\n",
            "Epoch 1/5\n",
            "147/147 [==============================] - 3s 9ms/step - loss: 2.3514 - accuracy: 0.4514 - val_loss: 4.6099 - val_accuracy: 0.0350\n",
            "Epoch 2/5\n",
            "147/147 [==============================] - 1s 7ms/step - loss: 1.2783 - accuracy: 0.7309 - val_loss: 4.5585 - val_accuracy: 0.0692\n",
            "Epoch 3/5\n",
            "147/147 [==============================] - 1s 7ms/step - loss: 0.8537 - accuracy: 0.8246 - val_loss: 3.4542 - val_accuracy: 0.1195\n",
            "Epoch 4/5\n",
            "147/147 [==============================] - 1s 9ms/step - loss: 0.6488 - accuracy: 0.8684 - val_loss: 1.4337 - val_accuracy: 0.6205\n",
            "Epoch 5/5\n",
            "147/147 [==============================] - 1s 9ms/step - loss: 0.5321 - accuracy: 0.8913 - val_loss: 0.7983 - val_accuracy: 0.8006\n",
            "=============================================================================\n",
            "{'optimizer': 'RMSprop', 'kernel_initializer': 'normal', 'activation': 'tanh'}\n",
            "Epoch 1/5\n",
            "147/147 [==============================] - 3s 9ms/step - loss: 3.8512 - accuracy: 0.2625 - val_loss: 5.4449 - val_accuracy: 0.0305\n",
            "Epoch 2/5\n",
            "147/147 [==============================] - 1s 7ms/step - loss: 2.3461 - accuracy: 0.5338 - val_loss: 5.5619 - val_accuracy: 0.0484\n",
            "Epoch 3/5\n",
            "147/147 [==============================] - 1s 7ms/step - loss: 1.5255 - accuracy: 0.6924 - val_loss: 5.0369 - val_accuracy: 0.0513\n",
            "Epoch 4/5\n",
            "147/147 [==============================] - 1s 7ms/step - loss: 1.0878 - accuracy: 0.7756 - val_loss: 3.7732 - val_accuracy: 0.1498\n",
            "Epoch 5/5\n",
            "147/147 [==============================] - 1s 7ms/step - loss: 0.8543 - accuracy: 0.8202 - val_loss: 3.0116 - val_accuracy: 0.2919\n",
            "=============================================================================\n",
            "{'optimizer': 'RMSprop', 'kernel_initializer': 'uniform', 'activation': 'tanh'}\n",
            "Epoch 1/5\n",
            "147/147 [==============================] - 3s 11ms/step - loss: 2.6784 - accuracy: 0.3658 - val_loss: 4.2841 - val_accuracy: 0.0347\n",
            "Epoch 2/5\n",
            "147/147 [==============================] - 3s 20ms/step - loss: 1.5050 - accuracy: 0.6724 - val_loss: 4.6667 - val_accuracy: 0.0858\n",
            "Epoch 3/5\n",
            "147/147 [==============================] - 2s 10ms/step - loss: 1.0312 - accuracy: 0.7799 - val_loss: 4.8219 - val_accuracy: 0.0660\n",
            "Epoch 4/5\n",
            "147/147 [==============================] - 1s 7ms/step - loss: 0.7904 - accuracy: 0.8246 - val_loss: 3.6934 - val_accuracy: 0.1292\n",
            "Epoch 5/5\n",
            "147/147 [==============================] - 1s 7ms/step - loss: 0.6557 - accuracy: 0.8582 - val_loss: 2.2563 - val_accuracy: 0.4298\n",
            "=============================================================================\n",
            "{'optimizer': 'Adam', 'kernel_initializer': 'normal', 'activation': 'relu'}\n",
            "Epoch 1/5\n",
            "147/147 [==============================] - 4s 9ms/step - loss: 3.6451 - accuracy: 0.3309 - val_loss: 5.5980 - val_accuracy: 0.0511\n",
            "Epoch 2/5\n",
            "147/147 [==============================] - 1s 9ms/step - loss: 1.8625 - accuracy: 0.6784 - val_loss: 5.5598 - val_accuracy: 0.0642\n",
            "Epoch 3/5\n",
            "147/147 [==============================] - 2s 11ms/step - loss: 1.0730 - accuracy: 0.8177 - val_loss: 4.8654 - val_accuracy: 0.0456\n",
            "Epoch 4/5\n",
            "147/147 [==============================] - 1s 10ms/step - loss: 0.7361 - accuracy: 0.8635 - val_loss: 3.3947 - val_accuracy: 0.1223\n",
            "Epoch 5/5\n",
            "147/147 [==============================] - 1s 7ms/step - loss: 0.5485 - accuracy: 0.9052 - val_loss: 0.7766 - val_accuracy: 0.8229\n",
            "=============================================================================\n",
            "{'optimizer': 'Adam', 'kernel_initializer': 'uniform', 'activation': 'relu'}\n",
            "Epoch 1/5\n",
            "147/147 [==============================] - 4s 9ms/step - loss: 2.8549 - accuracy: 0.3324 - val_loss: 4.6493 - val_accuracy: 0.0389\n",
            "Epoch 2/5\n",
            "147/147 [==============================] - 1s 7ms/step - loss: 1.5260 - accuracy: 0.6856 - val_loss: 5.3086 - val_accuracy: 0.0387\n",
            "Epoch 3/5\n",
            "147/147 [==============================] - 1s 7ms/step - loss: 0.9303 - accuracy: 0.8268 - val_loss: 4.9861 - val_accuracy: 0.0382\n",
            "Epoch 4/5\n",
            "147/147 [==============================] - 1s 9ms/step - loss: 0.6627 - accuracy: 0.8791 - val_loss: 2.2989 - val_accuracy: 0.2423\n",
            "Epoch 5/5\n",
            "147/147 [==============================] - 2s 11ms/step - loss: 0.4995 - accuracy: 0.9101 - val_loss: 0.6819 - val_accuracy: 0.8497\n",
            "=============================================================================\n",
            "{'optimizer': 'Adam', 'kernel_initializer': 'normal', 'activation': 'linear'}\n",
            "Epoch 1/5\n",
            "147/147 [==============================] - 4s 9ms/step - loss: 3.3271 - accuracy: 0.3760 - val_loss: 6.1213 - val_accuracy: 0.0345\n",
            "Epoch 2/5\n",
            "147/147 [==============================] - 1s 7ms/step - loss: 1.7171 - accuracy: 0.6670 - val_loss: 6.8290 - val_accuracy: 0.0345\n",
            "Epoch 3/5\n",
            "147/147 [==============================] - 1s 7ms/step - loss: 1.0917 - accuracy: 0.7774 - val_loss: 4.8897 - val_accuracy: 0.0689\n",
            "Epoch 4/5\n",
            "147/147 [==============================] - 1s 7ms/step - loss: 0.8039 - accuracy: 0.8326 - val_loss: 2.1725 - val_accuracy: 0.3527\n",
            "Epoch 5/5\n",
            "147/147 [==============================] - 1s 8ms/step - loss: 0.6541 - accuracy: 0.8676 - val_loss: 0.7030 - val_accuracy: 0.8643\n",
            "=============================================================================\n",
            "{'optimizer': 'Adam', 'kernel_initializer': 'uniform', 'activation': 'linear'}\n",
            "Epoch 1/5\n",
            "147/147 [==============================] - 4s 9ms/step - loss: 2.4830 - accuracy: 0.4334 - val_loss: 4.8578 - val_accuracy: 0.0345\n",
            "Epoch 2/5\n",
            "147/147 [==============================] - 1s 7ms/step - loss: 1.3407 - accuracy: 0.7261 - val_loss: 5.3346 - val_accuracy: 0.0345\n",
            "Epoch 3/5\n",
            "147/147 [==============================] - 1s 7ms/step - loss: 0.8966 - accuracy: 0.8226 - val_loss: 3.6745 - val_accuracy: 0.0796\n",
            "Epoch 4/5\n",
            "147/147 [==============================] - 1s 7ms/step - loss: 0.6787 - accuracy: 0.8703 - val_loss: 1.6474 - val_accuracy: 0.5134\n",
            "Epoch 5/5\n",
            "147/147 [==============================] - 1s 7ms/step - loss: 0.5458 - accuracy: 0.8977 - val_loss: 0.5784 - val_accuracy: 0.8976\n",
            "=============================================================================\n",
            "{'optimizer': 'Adam', 'kernel_initializer': 'normal', 'activation': 'tanh'}\n",
            "Epoch 1/5\n",
            "147/147 [==============================] - 5s 14ms/step - loss: 4.1093 - accuracy: 0.2107 - val_loss: 5.1983 - val_accuracy: 0.0627\n",
            "Epoch 2/5\n",
            "147/147 [==============================] - 1s 9ms/step - loss: 2.6272 - accuracy: 0.4726 - val_loss: 5.6916 - val_accuracy: 0.0365\n",
            "Epoch 3/5\n",
            "147/147 [==============================] - 1s 7ms/step - loss: 1.7199 - accuracy: 0.6537 - val_loss: 4.5447 - val_accuracy: 0.0444\n",
            "Epoch 4/5\n",
            "147/147 [==============================] - 1s 8ms/step - loss: 1.2094 - accuracy: 0.7532 - val_loss: 3.8266 - val_accuracy: 0.1024\n",
            "Epoch 5/5\n",
            "147/147 [==============================] - 1s 7ms/step - loss: 0.9176 - accuracy: 0.8101 - val_loss: 2.8823 - val_accuracy: 0.3048\n",
            "=============================================================================\n",
            "{'optimizer': 'Adam', 'kernel_initializer': 'uniform', 'activation': 'tanh'}\n",
            "Epoch 1/5\n",
            "147/147 [==============================] - 4s 11ms/step - loss: 2.8960 - accuracy: 0.3161 - val_loss: 4.5349 - val_accuracy: 0.0365\n",
            "Epoch 2/5\n",
            "147/147 [==============================] - 2s 10ms/step - loss: 1.6872 - accuracy: 0.6176 - val_loss: 5.7979 - val_accuracy: 0.0365\n",
            "Epoch 3/5\n",
            "147/147 [==============================] - 1s 10ms/step - loss: 1.1538 - accuracy: 0.7449 - val_loss: 6.1454 - val_accuracy: 0.0365\n",
            "Epoch 4/5\n",
            "147/147 [==============================] - 1s 7ms/step - loss: 0.8798 - accuracy: 0.8075 - val_loss: 4.8776 - val_accuracy: 0.0508\n",
            "Epoch 5/5\n",
            "147/147 [==============================] - 1s 7ms/step - loss: 0.7367 - accuracy: 0.8410 - val_loss: 4.4169 - val_accuracy: 0.0863\n",
            "=============================================================================\n",
            "{'optimizer': 'Adagrad', 'kernel_initializer': 'normal', 'activation': 'relu'}\n",
            "Epoch 1/5\n",
            "147/147 [==============================] - 4s 10ms/step - loss: 5.2455 - accuracy: 0.0631 - val_loss: 5.4317 - val_accuracy: 0.0345\n",
            "Epoch 2/5\n",
            "147/147 [==============================] - 1s 9ms/step - loss: 4.8592 - accuracy: 0.1127 - val_loss: 5.5622 - val_accuracy: 0.0454\n",
            "Epoch 3/5\n",
            "147/147 [==============================] - 2s 11ms/step - loss: 4.6274 - accuracy: 0.1485 - val_loss: 5.0738 - val_accuracy: 0.0595\n",
            "Epoch 4/5\n",
            "147/147 [==============================] - 2s 11ms/step - loss: 4.4555 - accuracy: 0.1729 - val_loss: 4.4839 - val_accuracy: 0.1458\n",
            "Epoch 5/5\n",
            "147/147 [==============================] - 1s 7ms/step - loss: 4.3251 - accuracy: 0.1965 - val_loss: 4.1004 - val_accuracy: 0.2631\n",
            "=============================================================================\n",
            "{'optimizer': 'Adagrad', 'kernel_initializer': 'uniform', 'activation': 'relu'}\n",
            "Epoch 1/5\n",
            "147/147 [==============================] - 3s 9ms/step - loss: 3.8326 - accuracy: 0.1072 - val_loss: 4.1152 - val_accuracy: 0.0335\n",
            "Epoch 2/5\n",
            "147/147 [==============================] - 1s 7ms/step - loss: 3.3245 - accuracy: 0.1913 - val_loss: 4.2615 - val_accuracy: 0.0409\n",
            "Epoch 3/5\n",
            "147/147 [==============================] - 1s 7ms/step - loss: 3.0705 - accuracy: 0.2491 - val_loss: 4.0431 - val_accuracy: 0.0526\n",
            "Epoch 4/5\n",
            "147/147 [==============================] - 1s 7ms/step - loss: 2.9087 - accuracy: 0.2924 - val_loss: 3.3068 - val_accuracy: 0.1654\n",
            "Epoch 5/5\n",
            "147/147 [==============================] - 1s 7ms/step - loss: 2.7614 - accuracy: 0.3414 - val_loss: 2.6581 - val_accuracy: 0.4105\n",
            "=============================================================================\n",
            "{'optimizer': 'Adagrad', 'kernel_initializer': 'normal', 'activation': 'linear'}\n",
            "Epoch 1/5\n",
            "147/147 [==============================] - 4s 12ms/step - loss: 5.0819 - accuracy: 0.0843 - val_loss: 5.1776 - val_accuracy: 0.0412\n",
            "Epoch 2/5\n",
            "147/147 [==============================] - 1s 9ms/step - loss: 4.6526 - accuracy: 0.1411 - val_loss: 5.1058 - val_accuracy: 0.0352\n",
            "Epoch 3/5\n",
            "147/147 [==============================] - 1s 7ms/step - loss: 4.4505 - accuracy: 0.1811 - val_loss: 4.7372 - val_accuracy: 0.0623\n",
            "Epoch 4/5\n",
            "147/147 [==============================] - 1s 7ms/step - loss: 4.2885 - accuracy: 0.2135 - val_loss: 4.2608 - val_accuracy: 0.2145\n",
            "Epoch 5/5\n",
            "147/147 [==============================] - 1s 7ms/step - loss: 4.1679 - accuracy: 0.2303 - val_loss: 3.9517 - val_accuracy: 0.3229\n",
            "=============================================================================\n",
            "{'optimizer': 'Adagrad', 'kernel_initializer': 'uniform', 'activation': 'linear'}\n",
            "Epoch 1/5\n",
            "147/147 [==============================] - 3s 9ms/step - loss: 3.7871 - accuracy: 0.1189 - val_loss: 4.5530 - val_accuracy: 0.0528\n",
            "Epoch 2/5\n",
            "147/147 [==============================] - 1s 7ms/step - loss: 3.2559 - accuracy: 0.2162 - val_loss: 4.8203 - val_accuracy: 0.0362\n",
            "Epoch 3/5\n",
            "147/147 [==============================] - 1s 7ms/step - loss: 3.0336 - accuracy: 0.2690 - val_loss: 4.3934 - val_accuracy: 0.0563\n",
            "Epoch 4/5\n",
            "147/147 [==============================] - 1s 7ms/step - loss: 2.8803 - accuracy: 0.3230 - val_loss: 3.4846 - val_accuracy: 0.1260\n",
            "Epoch 5/5\n",
            "147/147 [==============================] - 1s 10ms/step - loss: 2.7652 - accuracy: 0.3613 - val_loss: 2.7824 - val_accuracy: 0.3968\n",
            "=============================================================================\n",
            "{'optimizer': 'Adagrad', 'kernel_initializer': 'normal', 'activation': 'tanh'}\n",
            "Epoch 1/5\n",
            "147/147 [==============================] - 4s 10ms/step - loss: 5.1922 - accuracy: 0.0595 - val_loss: 5.2090 - val_accuracy: 0.0392\n",
            "Epoch 2/5\n",
            "147/147 [==============================] - 1s 7ms/step - loss: 4.8048 - accuracy: 0.1044 - val_loss: 4.9032 - val_accuracy: 0.0682\n",
            "Epoch 3/5\n",
            "147/147 [==============================] - 1s 7ms/step - loss: 4.6056 - accuracy: 0.1325 - val_loss: 4.4650 - val_accuracy: 0.1486\n",
            "Epoch 4/5\n",
            "147/147 [==============================] - 1s 7ms/step - loss: 4.4740 - accuracy: 0.1576 - val_loss: 4.1692 - val_accuracy: 0.2130\n",
            "Epoch 5/5\n",
            "147/147 [==============================] - 1s 7ms/step - loss: 4.3786 - accuracy: 0.1706 - val_loss: 4.0275 - val_accuracy: 0.2512\n",
            "=============================================================================\n",
            "{'optimizer': 'Adagrad', 'kernel_initializer': 'uniform', 'activation': 'tanh'}\n",
            "Epoch 1/5\n",
            "147/147 [==============================] - 4s 10ms/step - loss: 3.7820 - accuracy: 0.1278 - val_loss: 4.0482 - val_accuracy: 0.0355\n",
            "Epoch 2/5\n",
            "147/147 [==============================] - 1s 7ms/step - loss: 3.3071 - accuracy: 0.2155 - val_loss: 4.0457 - val_accuracy: 0.0568\n",
            "Epoch 3/5\n",
            "147/147 [==============================] - 1s 7ms/step - loss: 3.1180 - accuracy: 0.2631 - val_loss: 3.5211 - val_accuracy: 0.1530\n",
            "Epoch 4/5\n",
            "147/147 [==============================] - 1s 7ms/step - loss: 2.9737 - accuracy: 0.2945 - val_loss: 2.8728 - val_accuracy: 0.3013\n",
            "Epoch 5/5\n",
            "147/147 [==============================] - 1s 7ms/step - loss: 2.8384 - accuracy: 0.3367 - val_loss: 2.5302 - val_accuracy: 0.4333\n",
            "=============================================================================\n",
            "{'optimizer': 'Nadam', 'kernel_initializer': 'normal', 'activation': 'relu'}\n",
            "Epoch 1/5\n",
            "147/147 [==============================] - 7s 17ms/step - loss: 3.7788 - accuracy: 0.2980 - val_loss: 5.2898 - val_accuracy: 0.0382\n",
            "Epoch 2/5\n",
            "147/147 [==============================] - 2s 11ms/step - loss: 2.0222 - accuracy: 0.6259 - val_loss: 5.0820 - val_accuracy: 0.0382\n",
            "Epoch 3/5\n",
            "147/147 [==============================] - 1s 10ms/step - loss: 1.1981 - accuracy: 0.7865 - val_loss: 3.6594 - val_accuracy: 0.0491\n",
            "Epoch 4/5\n",
            "147/147 [==============================] - 1s 10ms/step - loss: 0.7927 - accuracy: 0.8588 - val_loss: 1.7683 - val_accuracy: 0.5122\n",
            "Epoch 5/5\n",
            "147/147 [==============================] - 1s 9ms/step - loss: 0.5949 - accuracy: 0.8923 - val_loss: 0.7202 - val_accuracy: 0.8705\n",
            "=============================================================================\n",
            "{'optimizer': 'Nadam', 'kernel_initializer': 'uniform', 'activation': 'relu'}\n",
            "Epoch 1/5\n",
            "147/147 [==============================] - 6s 14ms/step - loss: 2.7748 - accuracy: 0.3451 - val_loss: 5.0428 - val_accuracy: 0.0345\n",
            "Epoch 2/5\n",
            "147/147 [==============================] - 2s 14ms/step - loss: 1.4480 - accuracy: 0.7057 - val_loss: 5.9078 - val_accuracy: 0.0345\n",
            "Epoch 3/5\n",
            "147/147 [==============================] - 1s 10ms/step - loss: 0.8796 - accuracy: 0.8430 - val_loss: 5.3782 - val_accuracy: 0.0345\n",
            "Epoch 4/5\n",
            "147/147 [==============================] - 1s 9ms/step - loss: 0.6153 - accuracy: 0.8929 - val_loss: 1.8520 - val_accuracy: 0.5117\n",
            "Epoch 5/5\n",
            "147/147 [==============================] - 1s 10ms/step - loss: 0.4942 - accuracy: 0.9087 - val_loss: 0.7173 - val_accuracy: 0.8318\n",
            "=============================================================================\n",
            "{'optimizer': 'Nadam', 'kernel_initializer': 'normal', 'activation': 'linear'}\n",
            "Epoch 1/5\n",
            "147/147 [==============================] - 6s 13ms/step - loss: 3.4893 - accuracy: 0.3580 - val_loss: 5.7702 - val_accuracy: 0.0347\n",
            "Epoch 2/5\n",
            "147/147 [==============================] - 2s 13ms/step - loss: 1.7983 - accuracy: 0.6604 - val_loss: 5.5328 - val_accuracy: 0.0561\n",
            "Epoch 3/5\n",
            "147/147 [==============================] - 2s 12ms/step - loss: 1.1230 - accuracy: 0.7828 - val_loss: 4.2468 - val_accuracy: 0.0846\n",
            "Epoch 4/5\n",
            "147/147 [==============================] - 1s 10ms/step - loss: 0.8120 - accuracy: 0.8392 - val_loss: 1.5816 - val_accuracy: 0.5595\n",
            "Epoch 5/5\n",
            "147/147 [==============================] - 1s 9ms/step - loss: 0.6402 - accuracy: 0.8724 - val_loss: 0.7135 - val_accuracy: 0.8519\n",
            "=============================================================================\n",
            "{'optimizer': 'Nadam', 'kernel_initializer': 'uniform', 'activation': 'linear'}\n",
            "Epoch 1/5\n",
            "147/147 [==============================] - 6s 12ms/step - loss: 2.4951 - accuracy: 0.4289 - val_loss: 4.4498 - val_accuracy: 0.0345\n",
            "Epoch 2/5\n",
            "147/147 [==============================] - 2s 11ms/step - loss: 1.3610 - accuracy: 0.7168 - val_loss: 4.5244 - val_accuracy: 0.0851\n",
            "Epoch 3/5\n",
            "147/147 [==============================] - 2s 14ms/step - loss: 0.9052 - accuracy: 0.8224 - val_loss: 3.3996 - val_accuracy: 0.2153\n",
            "Epoch 4/5\n",
            "147/147 [==============================] - 2s 11ms/step - loss: 0.6770 - accuracy: 0.8678 - val_loss: 1.4062 - val_accuracy: 0.6287\n",
            "Epoch 5/5\n",
            "147/147 [==============================] - 1s 9ms/step - loss: 0.5520 - accuracy: 0.8917 - val_loss: 2.6159 - val_accuracy: 0.4025\n",
            "=============================================================================\n",
            "{'optimizer': 'Nadam', 'kernel_initializer': 'normal', 'activation': 'tanh'}\n",
            "Epoch 1/5\n",
            "147/147 [==============================] - 5s 12ms/step - loss: 4.0896 - accuracy: 0.2242 - val_loss: 4.6239 - val_accuracy: 0.0915\n",
            "Epoch 2/5\n",
            "147/147 [==============================] - 1s 9ms/step - loss: 2.5449 - accuracy: 0.5006 - val_loss: 5.4753 - val_accuracy: 0.0523\n",
            "Epoch 3/5\n",
            "147/147 [==============================] - 2s 12ms/step - loss: 1.6519 - accuracy: 0.6700 - val_loss: 6.1811 - val_accuracy: 0.0454\n",
            "Epoch 4/5\n",
            "147/147 [==============================] - 2s 14ms/step - loss: 1.1640 - accuracy: 0.7583 - val_loss: 5.5436 - val_accuracy: 0.0704\n",
            "Epoch 5/5\n",
            "147/147 [==============================] - 1s 10ms/step - loss: 0.8993 - accuracy: 0.8090 - val_loss: 3.6953 - val_accuracy: 0.1488\n",
            "=============================================================================\n",
            "{'optimizer': 'Nadam', 'kernel_initializer': 'uniform', 'activation': 'tanh'}\n",
            "Epoch 1/5\n",
            "147/147 [==============================] - 5s 12ms/step - loss: 2.7708 - accuracy: 0.3455 - val_loss: 4.5174 - val_accuracy: 0.0365\n",
            "Epoch 2/5\n",
            "147/147 [==============================] - 1s 10ms/step - loss: 1.5471 - accuracy: 0.6592 - val_loss: 5.9968 - val_accuracy: 0.0365\n",
            "Epoch 3/5\n",
            "147/147 [==============================] - 2s 10ms/step - loss: 1.0428 - accuracy: 0.7792 - val_loss: 6.4333 - val_accuracy: 0.0365\n",
            "Epoch 4/5\n",
            "147/147 [==============================] - 2s 13ms/step - loss: 0.7961 - accuracy: 0.8357 - val_loss: 5.3736 - val_accuracy: 0.1109\n",
            "Epoch 5/5\n",
            "147/147 [==============================] - 2s 12ms/step - loss: 0.6565 - accuracy: 0.8660 - val_loss: 4.4571 - val_accuracy: 0.1369\n",
            "=============================================================================\n"
          ]
        }
      ]
    },
    {
      "cell_type": "markdown",
      "source": [
        "After looping through all the combinations it was found that the best combination is:\n",
        "\n",
        "[Adam, Uniform Initialization, Relu Activation]\n",
        "\n",
        "Then lets use them to build our final model."
      ],
      "metadata": {
        "id": "TcHdvPnUE2lG"
      }
    },
    {
      "cell_type": "code",
      "source": [
        "#using the best parameters configuration\n",
        "#[Adam, Uniform Initialization, Relu Activation ]\n",
        "model = create_model(optimizer='adam',\n",
        "                     kernel_initializer='uniform',\n",
        "                     activation='relu')"
      ],
      "metadata": {
        "id": "70EmfCVZElK5"
      },
      "execution_count": 20,
      "outputs": []
    },
    {
      "cell_type": "code",
      "source": [
        "from tensorflow.keras.callbacks import ModelCheckpoint\n",
        "\n",
        "checkpointer = ModelCheckpoint(filepath='weights.hdf5', verbose=1,\n",
        "                               save_best_only=True)\n",
        "history = model.fit(train_x,\n",
        "                    train_y,\n",
        "                    validation_split= 0.3,                                      # The model will split the data into 30% of validation.\n",
        "                    epochs=30,                                                  # We will run the model for 30 epochs\n",
        "                    batch_size=64,                                              # We will have a batch size of 64\n",
        "                    callbacks=[checkpointer])                                   # Finally we will use the imported callback"
      ],
      "metadata": {
        "colab": {
          "base_uri": "https://localhost:8080/"
        },
        "id": "akMMRri-E8Go",
        "outputId": "6de7b3a1-59aa-4657-ffd1-b9f16de16c18"
      },
      "execution_count": 21,
      "outputs": [
        {
          "output_type": "stream",
          "name": "stdout",
          "text": [
            "Epoch 1/30\n",
            "144/147 [============================>.] - ETA: 0s - loss: 2.7963 - accuracy: 0.3480\n",
            "Epoch 1: val_loss improved from inf to 5.61111, saving model to weights.hdf5\n",
            "147/147 [==============================] - 4s 10ms/step - loss: 2.7770 - accuracy: 0.3531 - val_loss: 5.6111 - val_accuracy: 0.0345\n",
            "Epoch 2/30\n",
            " 18/147 [==>...........................] - ETA: 0s - loss: 1.8080 - accuracy: 0.6311"
          ]
        },
        {
          "output_type": "stream",
          "name": "stderr",
          "text": [
            "/usr/local/lib/python3.10/dist-packages/keras/src/engine/training.py:3103: UserWarning: You are saving your model as an HDF5 file via `model.save()`. This file format is considered legacy. We recommend using instead the native Keras format, e.g. `model.save('my_model.keras')`.\n",
            "  saving_api.save_model(\n"
          ]
        },
        {
          "output_type": "stream",
          "name": "stdout",
          "text": [
            "144/147 [============================>.] - ETA: 0s - loss: 1.4398 - accuracy: 0.7206\n",
            "Epoch 2: val_loss did not improve from 5.61111\n",
            "147/147 [==============================] - 1s 7ms/step - loss: 1.4322 - accuracy: 0.7219 - val_loss: 5.9794 - val_accuracy: 0.0345\n",
            "Epoch 3/30\n",
            "144/147 [============================>.] - ETA: 0s - loss: 0.8660 - accuracy: 0.8458\n",
            "Epoch 3: val_loss did not improve from 5.61111\n",
            "147/147 [==============================] - 1s 7ms/step - loss: 0.8639 - accuracy: 0.8459 - val_loss: 6.2607 - val_accuracy: 0.0345\n",
            "Epoch 4/30\n",
            "142/147 [===========================>..] - ETA: 0s - loss: 0.6187 - accuracy: 0.8877\n",
            "Epoch 4: val_loss improved from 5.61111 to 1.85111, saving model to weights.hdf5\n",
            "147/147 [==============================] - 1s 8ms/step - loss: 0.6172 - accuracy: 0.8881 - val_loss: 1.8511 - val_accuracy: 0.4539\n",
            "Epoch 5/30\n",
            "140/147 [===========================>..] - ETA: 0s - loss: 0.4784 - accuracy: 0.9131\n",
            "Epoch 5: val_loss improved from 1.85111 to 0.99311, saving model to weights.hdf5\n",
            "147/147 [==============================] - 1s 8ms/step - loss: 0.4776 - accuracy: 0.9126 - val_loss: 0.9931 - val_accuracy: 0.7247\n",
            "Epoch 6/30\n",
            "147/147 [==============================] - ETA: 0s - loss: 0.4016 - accuracy: 0.9314\n",
            "Epoch 6: val_loss improved from 0.99311 to 0.51284, saving model to weights.hdf5\n",
            "147/147 [==============================] - 1s 9ms/step - loss: 0.4016 - accuracy: 0.9314 - val_loss: 0.5128 - val_accuracy: 0.8807\n",
            "Epoch 7/30\n",
            "144/147 [============================>.] - ETA: 0s - loss: 0.3583 - accuracy: 0.9353\n",
            "Epoch 7: val_loss improved from 0.51284 to 0.39099, saving model to weights.hdf5\n",
            "147/147 [==============================] - 2s 12ms/step - loss: 0.3586 - accuracy: 0.9356 - val_loss: 0.3910 - val_accuracy: 0.9209\n",
            "Epoch 8/30\n",
            "145/147 [============================>.] - ETA: 0s - loss: 0.3224 - accuracy: 0.9457\n",
            "Epoch 8: val_loss improved from 0.39099 to 0.38547, saving model to weights.hdf5\n",
            "147/147 [==============================] - 1s 10ms/step - loss: 0.3227 - accuracy: 0.9455 - val_loss: 0.3855 - val_accuracy: 0.9154\n",
            "Epoch 9/30\n",
            "141/147 [===========================>..] - ETA: 0s - loss: 0.3133 - accuracy: 0.9443\n",
            "Epoch 9: val_loss did not improve from 0.38547\n",
            "147/147 [==============================] - 1s 8ms/step - loss: 0.3155 - accuracy: 0.9432 - val_loss: 0.4275 - val_accuracy: 0.8978\n",
            "Epoch 10/30\n",
            "142/147 [===========================>..] - ETA: 0s - loss: 0.2895 - accuracy: 0.9495\n",
            "Epoch 10: val_loss improved from 0.38547 to 0.31307, saving model to weights.hdf5\n",
            "147/147 [==============================] - 1s 8ms/step - loss: 0.2909 - accuracy: 0.9493 - val_loss: 0.3131 - val_accuracy: 0.9420\n",
            "Epoch 11/30\n",
            "140/147 [===========================>..] - ETA: 0s - loss: 0.2575 - accuracy: 0.9616\n",
            "Epoch 11: val_loss improved from 0.31307 to 0.31122, saving model to weights.hdf5\n",
            "147/147 [==============================] - 1s 8ms/step - loss: 0.2599 - accuracy: 0.9607 - val_loss: 0.3112 - val_accuracy: 0.9365\n",
            "Epoch 12/30\n",
            "146/147 [============================>.] - ETA: 0s - loss: 0.2574 - accuracy: 0.9571\n",
            "Epoch 12: val_loss did not improve from 0.31122\n",
            "147/147 [==============================] - 1s 7ms/step - loss: 0.2573 - accuracy: 0.9571 - val_loss: 0.3714 - val_accuracy: 0.9221\n",
            "Epoch 13/30\n",
            "145/147 [============================>.] - ETA: 0s - loss: 0.2566 - accuracy: 0.9582\n",
            "Epoch 13: val_loss did not improve from 0.31122\n",
            "147/147 [==============================] - 1s 7ms/step - loss: 0.2569 - accuracy: 0.9580 - val_loss: 0.3538 - val_accuracy: 0.9283\n",
            "Epoch 14/30\n",
            "142/147 [===========================>..] - ETA: 0s - loss: 0.2337 - accuracy: 0.9656\n",
            "Epoch 14: val_loss did not improve from 0.31122\n",
            "147/147 [==============================] - 1s 8ms/step - loss: 0.2335 - accuracy: 0.9656 - val_loss: 0.3810 - val_accuracy: 0.9169\n",
            "Epoch 15/30\n",
            "141/147 [===========================>..] - ETA: 0s - loss: 0.2388 - accuracy: 0.9632\n",
            "Epoch 15: val_loss improved from 0.31122 to 0.29445, saving model to weights.hdf5\n",
            "147/147 [==============================] - 1s 8ms/step - loss: 0.2390 - accuracy: 0.9633 - val_loss: 0.2944 - val_accuracy: 0.9444\n",
            "Epoch 16/30\n",
            "144/147 [============================>.] - ETA: 0s - loss: 0.2352 - accuracy: 0.9641\n",
            "Epoch 16: val_loss did not improve from 0.29445\n",
            "147/147 [==============================] - 1s 7ms/step - loss: 0.2351 - accuracy: 0.9641 - val_loss: 0.2998 - val_accuracy: 0.9442\n",
            "Epoch 17/30\n",
            "145/147 [============================>.] - ETA: 0s - loss: 0.2506 - accuracy: 0.9584\n",
            "Epoch 17: val_loss did not improve from 0.29445\n",
            "147/147 [==============================] - 2s 11ms/step - loss: 0.2500 - accuracy: 0.9588 - val_loss: 0.4061 - val_accuracy: 0.9102\n",
            "Epoch 18/30\n",
            "144/147 [============================>.] - ETA: 0s - loss: 0.2297 - accuracy: 0.9650\n",
            "Epoch 18: val_loss did not improve from 0.29445\n",
            "147/147 [==============================] - 2s 14ms/step - loss: 0.2296 - accuracy: 0.9651 - val_loss: 0.3214 - val_accuracy: 0.9390\n",
            "Epoch 19/30\n",
            "147/147 [==============================] - ETA: 0s - loss: 0.2136 - accuracy: 0.9700\n",
            "Epoch 19: val_loss improved from 0.29445 to 0.29443, saving model to weights.hdf5\n",
            "147/147 [==============================] - 2s 14ms/step - loss: 0.2136 - accuracy: 0.9700 - val_loss: 0.2944 - val_accuracy: 0.9435\n",
            "Epoch 20/30\n",
            "144/147 [============================>.] - ETA: 0s - loss: 0.2066 - accuracy: 0.9705\n",
            "Epoch 20: val_loss did not improve from 0.29443\n",
            "147/147 [==============================] - 1s 10ms/step - loss: 0.2080 - accuracy: 0.9701 - val_loss: 0.6504 - val_accuracy: 0.8351\n",
            "Epoch 21/30\n",
            "142/147 [===========================>..] - ETA: 0s - loss: 0.1938 - accuracy: 0.9734\n",
            "Epoch 21: val_loss did not improve from 0.29443\n",
            "147/147 [==============================] - 1s 8ms/step - loss: 0.1958 - accuracy: 0.9727 - val_loss: 0.4125 - val_accuracy: 0.8906\n",
            "Epoch 22/30\n",
            "147/147 [==============================] - ETA: 0s - loss: 0.2038 - accuracy: 0.9725\n",
            "Epoch 22: val_loss did not improve from 0.29443\n",
            "147/147 [==============================] - 1s 7ms/step - loss: 0.2038 - accuracy: 0.9725 - val_loss: 0.3649 - val_accuracy: 0.9261\n",
            "Epoch 23/30\n",
            "140/147 [===========================>..] - ETA: 0s - loss: 0.2064 - accuracy: 0.9701\n",
            "Epoch 23: val_loss did not improve from 0.29443\n",
            "147/147 [==============================] - 1s 8ms/step - loss: 0.2078 - accuracy: 0.9698 - val_loss: 0.2982 - val_accuracy: 0.9442\n",
            "Epoch 24/30\n",
            "140/147 [===========================>..] - ETA: 0s - loss: 0.2066 - accuracy: 0.9710\n",
            "Epoch 24: val_loss did not improve from 0.29443\n",
            "147/147 [==============================] - 1s 7ms/step - loss: 0.2083 - accuracy: 0.9705 - val_loss: 0.4718 - val_accuracy: 0.8931\n",
            "Epoch 25/30\n",
            "139/147 [===========================>..] - ETA: 0s - loss: 0.2079 - accuracy: 0.9727\n",
            "Epoch 25: val_loss did not improve from 0.29443\n",
            "147/147 [==============================] - 1s 7ms/step - loss: 0.2101 - accuracy: 0.9714 - val_loss: 0.3161 - val_accuracy: 0.9353\n",
            "Epoch 26/30\n",
            "147/147 [==============================] - ETA: 0s - loss: 0.2116 - accuracy: 0.9692\n",
            "Epoch 26: val_loss did not improve from 0.29443\n",
            "147/147 [==============================] - 1s 8ms/step - loss: 0.2116 - accuracy: 0.9692 - val_loss: 1.0045 - val_accuracy: 0.7468\n",
            "Epoch 27/30\n",
            "145/147 [============================>.] - ETA: 0s - loss: 0.2106 - accuracy: 0.9705\n",
            "Epoch 27: val_loss improved from 0.29443 to 0.26816, saving model to weights.hdf5\n",
            "147/147 [==============================] - 1s 8ms/step - loss: 0.2112 - accuracy: 0.9705 - val_loss: 0.2682 - val_accuracy: 0.9573\n",
            "Epoch 28/30\n",
            "139/147 [===========================>..] - ETA: 0s - loss: 0.2022 - accuracy: 0.9727\n",
            "Epoch 28: val_loss did not improve from 0.26816\n",
            "147/147 [==============================] - 1s 7ms/step - loss: 0.2013 - accuracy: 0.9728 - val_loss: 0.2995 - val_accuracy: 0.9420\n",
            "Epoch 29/30\n",
            "146/147 [============================>.] - ETA: 0s - loss: 0.1948 - accuracy: 0.9732\n",
            "Epoch 29: val_loss did not improve from 0.26816\n",
            "147/147 [==============================] - 2s 10ms/step - loss: 0.1955 - accuracy: 0.9729 - val_loss: 0.3474 - val_accuracy: 0.9340\n",
            "Epoch 30/30\n",
            "143/147 [============================>.] - ETA: 0s - loss: 0.1903 - accuracy: 0.9757\n",
            "Epoch 30: val_loss improved from 0.26816 to 0.26134, saving model to weights.hdf5\n",
            "147/147 [==============================] - 2s 11ms/step - loss: 0.1901 - accuracy: 0.9753 - val_loss: 0.2613 - val_accuracy: 0.9571\n"
          ]
        }
      ]
    },
    {
      "cell_type": "code",
      "source": [
        "#load the best epoch's weights and then evaluate our model using the test set.\n",
        "model.load_weights('weights.hdf5')                                              # Loading the best weights\n",
        "model.evaluate(test_x, test_y)                                                  # Evaluating our model"
      ],
      "metadata": {
        "colab": {
          "base_uri": "https://localhost:8080/"
        },
        "id": "sW4KcOfd4t2b",
        "outputId": "bb321c53-6170-427a-ef29-bd15126f6265"
      },
      "execution_count": 22,
      "outputs": [
        {
          "output_type": "stream",
          "name": "stdout",
          "text": [
            "105/105 [==============================] - 1s 3ms/step - loss: 0.2843 - accuracy: 0.9482\n"
          ]
        },
        {
          "output_type": "execute_result",
          "data": {
            "text/plain": [
              "[0.2843134105205536, 0.9482142925262451]"
            ]
          },
          "metadata": {},
          "execution_count": 22
        }
      ]
    },
    {
      "cell_type": "code",
      "source": [
        "#plot model training journy to check the performance and verify that the model is not overfitting\n",
        "# PLOT LOSS AND ACCURACY\n",
        "%matplotlib inline\n",
        "\n",
        "import matplotlib.image  as mpimg\n",
        "import matplotlib.pyplot as plt\n",
        "\n",
        "#-----------------------------------------------------------\n",
        "# Retrieve a list of list results on training and test data\n",
        "# sets for each training epoch\n",
        "#-----------------------------------------------------------\n",
        "acc=history.history['accuracy']\n",
        "val_acc=history.history['val_accuracy']\n",
        "loss=history.history['loss']\n",
        "val_loss=history.history['val_loss']\n",
        "\n",
        "epochs=range(len(acc)) # Get number of epochs\n",
        "\n",
        "#------------------------------------------------\n",
        "# Plot training and validation accuracy per epoch\n",
        "#------------------------------------------------\n",
        "plt.plot(history.history['accuracy'])\n",
        "plt.plot(history.history['val_accuracy'])\n",
        "plt.title('Training and validation accuracy')\n",
        "plt.legend(['train', 'val'], loc='upper left')\n",
        "plt.ylabel('accuracy')\n",
        "plt.xlabel('epoch')\n",
        "plt.figure()\n",
        "\n",
        "#------------------------------------------------\n",
        "# Plot training and validation loss per epoch\n",
        "#------------------------------------------------\n",
        "plt.plot(history.history['loss'])\n",
        "plt.plot(history.history['val_loss'])\n",
        "plt.title('Training and validation loss')\n",
        "plt.legend(['train', 'val'], loc='upper left')\n",
        "plt.ylabel('accuracy')\n",
        "plt.xlabel('epoch')\n",
        "\n",
        "\n",
        "plt.title('Training and validation loss')"
      ],
      "metadata": {
        "colab": {
          "base_uri": "https://localhost:8080/",
          "height": 945
        },
        "id": "GMmufk_b5RwK",
        "outputId": "5f2b2e64-b7ef-4320-aef4-fed4d2ed2f27"
      },
      "execution_count": 23,
      "outputs": [
        {
          "output_type": "execute_result",
          "data": {
            "text/plain": [
              "Text(0.5, 1.0, 'Training and validation loss')"
            ]
          },
          "metadata": {},
          "execution_count": 23
        },
        {
          "output_type": "display_data",
          "data": {
            "text/plain": [
              "<Figure size 640x480 with 1 Axes>"
            ],
            "image/png": "[encoded data removed]"
          },
          "metadata": {}
        },
        {
          "output_type": "display_data",
          "data": {
            "text/plain": [
              "<Figure size 640x480 with 1 Axes>"
            ],
            "image/png": "[encoded data removed]"
          },
          "metadata": {}
        }
      ]
    },
    {
      "cell_type": "code",
      "source": [
        "#save the model\n",
        "model.save('my_model.h5')"
      ],
      "metadata": {
        "id": "97y75DcH5kTW"
      },
      "execution_count": 24,
      "outputs": []
    },
    {
      "cell_type": "markdown",
      "source": [
        "TESTING THE MODEL"
      ],
      "metadata": {
        "id": "v3GWFbmS70_z"
      }
    },
    {
      "cell_type": "code",
      "source": [
        "model = tf.keras.models.load_model('my_model.h5')"
      ],
      "metadata": {
        "id": "WLggR-q_5nkb"
      },
      "execution_count": 47,
      "outputs": []
    },
    {
      "cell_type": "code",
      "source": [
        "from google.colab import files\n",
        "\n",
        "def predict_image(image, model_path, arabic_chars):\n",
        "    model = tf.keras.models.load_model(model_path)\n",
        "\n",
        "    # Preprocess the image\n",
        "    img = cv2.cvtColor(image, cv2.COLOR_BGR2GRAY)  # Convert to grayscale\n",
        "    img = cv2.bitwise_not(img)  # Invert colors\n",
        "    img = cv2.resize(img, (32, 32))\n",
        "    img = img.reshape(-1, 32, 32, 1)\n",
        "    img = img.astype('float32') / 255.0\n",
        "\n",
        "    # Predict the character\n",
        "    pred = model.predict(img)\n",
        "    predicted_label = arabic_chars[np.argmax(pred)+1]\n",
        "\n",
        "    return predicted_label\n",
        "\n",
        "def plot_image(image):\n",
        "    plt.imshow(image, cmap='gray')\n",
        "    plt.axis('off')\n",
        "    plt.show()\n",
        "\n",
        "# Example usage\n",
        "def upload_and_predict(model_path, arabic_chars):\n",
        "    # Upload the file\n",
        "    uploaded = files.upload()\n",
        "\n",
        "    for fn in uploaded.keys():\n",
        "        # Read the uploaded image\n",
        "        image = cv2.imread(fn)\n",
        "\n",
        "        # Predict the character\n",
        "        predicted_label = predict_image(image, model_path, arabic_chars)\n",
        "        print(\"Predicted label:\", predicted_label)\n",
        "\n",
        "        # Plot the uploaded image\n",
        "        plot_image(image)\n",
        "\n",
        "# Example usage\n",
        "model_path = \"my_model.h5\"\n",
        "arabic_chars = {\n",
        "    1: 'alif', 2: 'ba', 3: 'ta', 4: 'tsa', 5: 'jim', 6: 'hâ', 7: 'khâ', 8: 'dal', 9: 'dzal',\n",
        "    10: 'ra', 11: 'zai', 12: 'sîn', 13: 'syîn', 14: 'shâd', 15: 'dhâd', 16: 'thâ', 17: 'zhâ',\n",
        "    18: 'âin', 19: 'ghain', 20: 'fa', 21: 'qâf', 22: 'kâf', 23: 'lam', 24: 'mîm', 25: 'nun',\n",
        "    26: 'Ha', 27: 'waw', 28: 'yâ'\n",
        "}\n",
        "\n",
        "upload_and_predict(model_path, arabic_chars)\n"
      ],
      "metadata": {
        "colab": {
          "base_uri": "https://localhost:8080/",
          "height": 498
        },
        "id": "homAqAYcWa_u",
        "outputId": "d75d15b7-4bb6-440b-f125-235fd4859b6a"
      },
      "execution_count": 80,
      "outputs": [
        {
          "output_type": "display_data",
          "data": {
            "text/plain": [
              "<IPython.core.display.HTML object>"
            ],
            "text/html": [
              "\n",
              "     <input type=\"file\" id=\"files-d600d29b-ea0c-4953-96a0-a127ed680555\" name=\"files[]\" multiple disabled\n",
              "        style=\"border:none\" />\n",
              "     <output id=\"result-d600d29b-ea0c-4953-96a0-a127ed680555\">\n",
              "      Upload widget is only available when the cell has been executed in the\n",
              "      current browser session. Please rerun this cell to enable.\n",
              "      </output>\n",
              "      <script>// Copyright 2017 Google LLC\n",
              "//\n",
              "// Licensed under the Apache License, Version 2.0 (the \"License\");\n",
              "// you may not use this file except in compliance with the License.\n",
              "// You may obtain a copy of the License at\n",
              "//\n",
              "//      http://www.apache.org/licenses/LICENSE-2.0\n",
              "//\n",
              "// Unless required by applicable law or agreed to in writing, software\n",
              "// distributed under the License is distributed on an \"AS IS\" BASIS,\n",
              "// WITHOUT WARRANTIES OR CONDITIONS OF ANY KIND, either express or implied.\n",
              "// See the License for the specific language governing permissions and\n",
              "// limitations under the License.\n",
              "\n",
              "/**\n",
              " * @fileoverview Helpers for google.colab Python module.\n",
              " */\n",
              "(function(scope) {\n",
              "function span(text, styleAttributes = {}) {\n",
              "  const element = document.createElement('span');\n",
              "  element.textContent = text;\n",
              "  for (const key of Object.keys(styleAttributes)) {\n",
              "    element.style[key] = styleAttributes[key];\n",
              "  }\n",
              "  return element;\n",
              "}\n",
              "\n",
              "// Max number of bytes which will be uploaded at a time.\n",
              "const MAX_PAYLOAD_SIZE = 100 * 1024;\n",
              "\n",
              "function _uploadFiles(inputId, outputId) {\n",
              "  const steps = uploadFilesStep(inputId, outputId);\n",
              "  const outputElement = document.getElementById(outputId);\n",
              "  // Cache steps on the outputElement to make it available for the next call\n",
              "  // to uploadFilesContinue from Python.\n",
              "  outputElement.steps = steps;\n",
              "\n",
              "  return _uploadFilesContinue(outputId);\n",
              "}\n",
              "\n",
              "// This is roughly an async generator (not supported in the browser yet),\n",
              "// where there are multiple asynchronous steps and the Python side is going\n",
              "// to poll for completion of each step.\n",
              "// This uses a Promise to block the python side on completion of each step,\n",
              "// then passes the result of the previous step as the input to the next step.\n",
              "function _uploadFilesContinue(outputId) {\n",
              "  const outputElement = document.getElementById(outputId);\n",
              "  const steps = outputElement.steps;\n",
              "\n",
              "  const next = steps.next(outputElement.lastPromiseValue);\n",
              "  return Promise.resolve(next.value.promise).then((value) => {\n",
              "    // Cache the last promise value to make it available to the next\n",
              "    // step of the generator.\n",
              "    outputElement.lastPromiseValue = value;\n",
              "    return next.value.response;\n",
              "  });\n",
              "}\n",
              "\n",
              "/**\n",
              " * Generator function which is called between each async step of the upload\n",
              " * process.\n",
              " * @param {string} inputId Element ID of the input file picker element.\n",
              " * @param {string} outputId Element ID of the output display.\n",
              " * @return {!Iterable<!Object>} Iterable of next steps.\n",
              " */\n",
              "function* uploadFilesStep(inputId, outputId) {\n",
              "  const inputElement = document.getElementById(inputId);\n",
              "  inputElement.disabled = false;\n",
              "\n",
              "  const outputElement = document.getElementById(outputId);\n",
              "  outputElement.innerHTML = '';\n",
              "\n",
              "  const pickedPromise = new Promise((resolve) => {\n",
              "    inputElement.addEventListener('change', (e) => {\n",
              "      resolve(e.target.files);\n",
              "    });\n",
              "  });\n",
              "\n",
              "  const cancel = document.createElement('button');\n",
              "  inputElement.parentElement.appendChild(cancel);\n",
              "  cancel.textContent = 'Cancel upload';\n",
              "  const cancelPromise = new Promise((resolve) => {\n",
              "    cancel.onclick = () => {\n",
              "      resolve(null);\n",
              "    };\n",
              "  });\n",
              "\n",
              "  // Wait for the user to pick the files.\n",
              "  const files = yield {\n",
              "    promise: Promise.race([pickedPromise, cancelPromise]),\n",
              "    response: {\n",
              "      action: 'starting',\n",
              "    }\n",
              "  };\n",
              "\n",
              "  cancel.remove();\n",
              "\n",
              "  // Disable the input element since further picks are not allowed.\n",
              "  inputElement.disabled = true;\n",
              "\n",
              "  if (!files) {\n",
              "    return {\n",
              "      response: {\n",
              "        action: 'complete',\n",
              "      }\n",
              "    };\n",
              "  }\n",
              "\n",
              "  for (const file of files) {\n",
              "    const li = document.createElement('li');\n",
              "    li.append(span(file.name, {fontWeight: 'bold'}));\n",
              "    li.append(span(\n",
              "        `(${file.type || 'n/a'}) - ${file.size} bytes, ` +\n",
              "        `last modified: ${\n",
              "            file.lastModifiedDate ? file.lastModifiedDate.toLocaleDateString() :\n",
              "                                    'n/a'} - `));\n",
              "    const percent = span('0% done');\n",
              "    li.appendChild(percent);\n",
              "\n",
              "    outputElement.appendChild(li);\n",
              "\n",
              "    const fileDataPromise = new Promise((resolve) => {\n",
              "      const reader = new FileReader();\n",
              "      reader.onload = (e) => {\n",
              "        resolve(e.target.result);\n",
              "      };\n",
              "      reader.readAsArrayBuffer(file);\n",
              "    });\n",
              "    // Wait for the data to be ready.\n",
              "    let fileData = yield {\n",
              "      promise: fileDataPromise,\n",
              "      response: {\n",
              "        action: 'continue',\n",
              "      }\n",
              "    };\n",
              "\n",
              "    // Use a chunked sending to avoid message size limits. See b/62115660.\n",
              "    let position = 0;\n",
              "    do {\n",
              "      const length = Math.min(fileData.byteLength - position, MAX_PAYLOAD_SIZE);\n",
              "      const chunk = new Uint8Array(fileData, position, length);\n",
              "      position += length;\n",
              "\n",
              "      const base64 = btoa(String.fromCharCode.apply(null, chunk));\n",
              "      yield {\n",
              "        response: {\n",
              "          action: 'append',\n",
              "          file: file.name,\n",
              "          data: base64,\n",
              "        },\n",
              "      };\n",
              "\n",
              "      let percentDone = fileData.byteLength === 0 ?\n",
              "          100 :\n",
              "          Math.round((position / fileData.byteLength) * 100);\n",
              "      percent.textContent = `${percentDone}% done`;\n",
              "\n",
              "    } while (position < fileData.byteLength);\n",
              "  }\n",
              "\n",
              "  // All done.\n",
              "  yield {\n",
              "    response: {\n",
              "      action: 'complete',\n",
              "    }\n",
              "  };\n",
              "}\n",
              "\n",
              "scope.google = scope.google || {};\n",
              "scope.google.colab = scope.google.colab || {};\n",
              "scope.google.colab._files = {\n",
              "  _uploadFiles,\n",
              "  _uploadFilesContinue,\n",
              "};\n",
              "})(self);\n",
              "</script> "
            ]
          },
          "metadata": {}
        },
        {
          "output_type": "stream",
          "name": "stdout",
          "text": [
            "Saving tes29.png to tes29 (1).png\n",
            "1/1 [==============================] - 0s 110ms/step\n",
            "Predicted label: yâ\n"
          ]
        },
        {
          "output_type": "display_data",
          "data": {
            "text/plain": [
              "<Figure size 640x480 with 1 Axes>"
            ],
            "image/png": "[encoded data removed]"
          },
          "metadata": {}
        }
      ]
    }
  ]
}